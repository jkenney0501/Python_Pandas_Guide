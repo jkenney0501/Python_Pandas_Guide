{
 "cells": [
  {
   "cell_type": "markdown",
   "id": "c2fcafed",
   "metadata": {},
   "source": [
    "# Matplotlib - Visualization Guide"
   ]
  },
  {
   "cell_type": "code",
   "execution_count": 4,
   "id": "bb5aa359",
   "metadata": {},
   "outputs": [],
   "source": [
    "# install required libs\n",
    "import pandas as pd\n",
    "import matplotlib.pyplot as plt\n",
    "# to display viz inline\n",
    "%matplotlib inline"
   ]
  },
  {
   "cell_type": "code",
   "execution_count": 18,
   "id": "e9b7c914",
   "metadata": {},
   "outputs": [
    {
     "data": {
      "text/html": [
       "<div>\n",
       "<style scoped>\n",
       "    .dataframe tbody tr th:only-of-type {\n",
       "        vertical-align: middle;\n",
       "    }\n",
       "\n",
       "    .dataframe tbody tr th {\n",
       "        vertical-align: top;\n",
       "    }\n",
       "\n",
       "    .dataframe thead th {\n",
       "        text-align: right;\n",
       "    }\n",
       "</style>\n",
       "<table border=\"1\" class=\"dataframe\">\n",
       "  <thead>\n",
       "    <tr style=\"text-align: right;\">\n",
       "      <th></th>\n",
       "      <th>Gender</th>\n",
       "      <th>Height</th>\n",
       "      <th>Weight</th>\n",
       "    </tr>\n",
       "  </thead>\n",
       "  <tbody>\n",
       "    <tr>\n",
       "      <th>0</th>\n",
       "      <td>Male</td>\n",
       "      <td>73.847017</td>\n",
       "      <td>241.893563</td>\n",
       "    </tr>\n",
       "  </tbody>\n",
       "</table>\n",
       "</div>"
      ],
      "text/plain": [
       "  Gender     Height      Weight\n",
       "0   Male  73.847017  241.893563"
      ]
     },
     "execution_count": 18,
     "metadata": {},
     "output_type": "execute_result"
    }
   ],
   "source": [
    "# import a continous data set for viz\n",
    "df = pd.read_csv('../datasets/weights_and_heights.csv')\n",
    "df.head(1)"
   ]
  },
  {
   "cell_type": "markdown",
   "id": "d721a55a",
   "metadata": {},
   "source": [
    "## Quick Plot Creation "
   ]
  },
  {
   "cell_type": "code",
   "execution_count": 14,
   "id": "cf6e4bcc",
   "metadata": {},
   "outputs": [],
   "source": [
    "# create two lists for X and Y\n",
    "x_values = [1,2,3,4,5,6,7,8,9,10]\n",
    "\n",
    "x_squared = [x ** 2 for x in x_values]"
   ]
  },
  {
   "cell_type": "code",
   "execution_count": 19,
   "id": "782a2252",
   "metadata": {},
   "outputs": [
    {
     "data": {
      "image/png": "[encoded data removed]",
      "text/plain": [
       "<Figure size 432x288 with 1 Axes>"
      ]
     },
     "metadata": {
      "needs_background": "light"
     },
     "output_type": "display_data"
    }
   ],
   "source": [
    "# to plot: plug vars in to function\n",
    "plt.plot(x_values, x_squared)\n",
    "\n",
    "# add title\n",
    "plt.title('Exponential Growth')\n",
    "\n",
    "#to add x and y labels:\n",
    "plt.ylabel('Label for Y')\n",
    "plt.xlabel('Label for X')\n",
    "\n",
    "# to show plot\n",
    "plt.show()"
   ]
  },
  {
   "cell_type": "markdown",
   "id": "78fb1cc4",
   "metadata": {},
   "source": [
    "## Additional Features for Plotting\n",
    "- Plot multiple vars at once"
   ]
  },
  {
   "cell_type": "code",
   "execution_count": 20,
   "id": "428dc883",
   "metadata": {},
   "outputs": [],
   "source": [
    "# create 3 lists for X and Y\n",
    "x_values = [1,2,3,4,5,6,7,8,9,10]\n",
    "\n",
    "x_squared = [x ** 2 for x in x_values]\n",
    "\n",
    "x_cubed = [x ** 3 for x in x_values]"
   ]
  },
  {
   "cell_type": "code",
   "execution_count": 26,
   "id": "cb587f1d",
   "metadata": {},
   "outputs": [
    {
     "data": {
      "image/png": "[encoded data removed]",
      "text/plain": [
       "<Figure size 432x288 with 1 Axes>"
      ]
     },
     "metadata": {
      "needs_background": "light"
     },
     "output_type": "display_data"
    }
   ],
   "source": [
    "# we are going to plot the x value against the new x cubed value created above\n",
    "# everything below is optional, all examples are used as demonstration\n",
    "plt.plot(x_values, x_squared, label='X Squared')\n",
    "plt.plot(x_values, x_cubed, label = 'X Cubed')\n",
    "\n",
    "# add title\n",
    "plt.title('Exponential Growth Version 2')\n",
    "\n",
    "#to add x and y labels:\n",
    "plt.ylabel('Label for Y')\n",
    "plt.xlabel('Label for X')\n",
    "\n",
    "# to add limits for x and y axis:\n",
    "# plt.ylim(-100,600)\n",
    "# plt.xlim(2,8)\n",
    "\n",
    "# to control the ticks (for granularity)-pass a list\n",
    "plt.xticks(range(11))\n",
    "\n",
    "# add a grid\n",
    "plt.grid(True)\n",
    "\n",
    "# add legend, need to add label = as a parameter above\n",
    "plt.legend()\n",
    "\n",
    "# to show plot\n",
    "plt.show()"
   ]
  },
  {
   "cell_type": "markdown",
   "id": "a1c86b76",
   "metadata": {},
   "source": [
    "## Add Colors and Styles"
   ]
  },
  {
   "cell_type": "code",
   "execution_count": null,
   "id": "91bec9f5",
   "metadata": {},
   "outputs": [],
   "source": []
  },
  {
   "cell_type": "code",
   "execution_count": null,
   "id": "61a4b21b",
   "metadata": {},
   "outputs": [],
   "source": []
  },
  {
   "cell_type": "code",
   "execution_count": null,
   "id": "15c9edfe",
   "metadata": {},
   "outputs": [],
   "source": []
  },
  {
   "cell_type": "code",
   "execution_count": null,
   "id": "c86bcec8",
   "metadata": {},
   "outputs": [],
   "source": []
  },
  {
   "cell_type": "code",
   "execution_count": null,
   "id": "aa1ae184",
   "metadata": {},
   "outputs": [],
   "source": []
  },
  {
   "cell_type": "code",
   "execution_count": null,
   "id": "ad430526",
   "metadata": {},
   "outputs": [],
   "source": []
  },
  {
   "cell_type": "code",
   "execution_count": null,
   "id": "dc896478",
   "metadata": {},
   "outputs": [],
   "source": []
  },
  {
   "cell_type": "code",
   "execution_count": null,
   "id": "8c95d5c4",
   "metadata": {},
   "outputs": [],
   "source": []
  },
  {
   "cell_type": "code",
   "execution_count": null,
   "id": "f38422b1",
   "metadata": {},
   "outputs": [],
   "source": []
  }
 ],
 "metadata": {
  "kernelspec": {
   "display_name": "Python 3",
   "language": "python",
   "name": "python3"
  },
  "language_info": {
   "codemirror_mode": {
    "name": "ipython",
    "version": 3
   },
   "file_extension": ".py",
   "mimetype": "text/x-python",
   "name": "python",
   "nbconvert_exporter": "python",
   "pygments_lexer": "ipython3",
   "version": "3.8.8"
  }
 },
 "nbformat": 4,
 "nbformat_minor": 5
}
