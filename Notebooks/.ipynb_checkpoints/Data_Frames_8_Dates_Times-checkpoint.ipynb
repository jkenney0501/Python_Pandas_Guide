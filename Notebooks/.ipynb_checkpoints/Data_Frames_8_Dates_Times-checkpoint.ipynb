{
 "cells": [
  {
   "cell_type": "markdown",
   "id": "b4498321",
   "metadata": {},
   "source": [
    "### Working with Dates and Times\n",
    "Topics:\n",
    "- Python standard datetime library\n",
    "- Timestamps\n",
    "- Datetime Index Object\n",
    "- pd.to_datetime( )\n",
    "- Create a range of dates\n",
    "- data reader library\n",
    "- Date offset object\n",
    "- Time series offsets\n",
    "- Time delta object\n",
    "- Time deltas in a dataset"
   ]
  },
  {
   "cell_type": "code",
   "execution_count": 31,
   "id": "9d988a61",
   "metadata": {},
   "outputs": [],
   "source": [
    "import pandas as pd\n",
    "\n",
    "# from python standard library fro date and time\n",
    "import datetime as dt"
   ]
  },
  {
   "cell_type": "markdown",
   "id": "65b60c6d",
   "metadata": {},
   "source": [
    "### Review of python datetime module\n"
   ]
  },
  {
   "cell_type": "code",
   "execution_count": 32,
   "id": "4b393b81",
   "metadata": {},
   "outputs": [
    {
     "data": {
      "text/plain": [
       "15"
      ]
     },
     "execution_count": 32,
     "metadata": {},
     "output_type": "execute_result"
    }
   ],
   "source": [
    "# Create a date object - year, month, day\n",
    "someday = dt.date(2021, 5, 15)\n",
    "\n",
    "# click tab to see available mthods on the object\n",
    "someday.year\n",
    "someday.month\n",
    "someday.day"
   ]
  },
  {
   "cell_type": "code",
   "execution_count": 33,
   "id": "57cbdb26",
   "metadata": {},
   "outputs": [
    {
     "data": {
      "text/plain": [
       "datetime.datetime(2021, 5, 15, 0, 0)"
      ]
     },
     "execution_count": 33,
     "metadata": {},
     "output_type": "execute_result"
    }
   ],
   "source": [
    "# create a datetime object - time is not required, default is midnight\n",
    "dt.datetime(2021, 5, 15)"
   ]
  },
  {
   "cell_type": "code",
   "execution_count": 34,
   "id": "a653d205",
   "metadata": {},
   "outputs": [
    {
     "data": {
      "text/plain": [
       "datetime.datetime(2021, 5, 15, 8, 15, 57)"
      ]
     },
     "execution_count": 34,
     "metadata": {},
     "output_type": "execute_result"
    }
   ],
   "source": [
    "# sequnce for adding time is hours, minutes, seconds, etc\n",
    "# 8:15 am\n",
    "dt.datetime(2021, 5, 15, 8, 15, 57)"
   ]
  },
  {
   "cell_type": "code",
   "execution_count": 35,
   "id": "d87aab4c",
   "metadata": {},
   "outputs": [
    {
     "data": {
      "text/plain": [
       "'2021-05-15 17:15:57'"
      ]
     },
     "execution_count": 35,
     "metadata": {},
     "output_type": "execute_result"
    }
   ],
   "source": [
    "# to make anyhting in the afternoon, you have to use military time - 5:15:57 sec pm , 17hr in pm = 5pm\n",
    "# use str to make it more human readable format, all methods apply as well\n",
    "str(dt.datetime(2021, 5, 15, 17, 15, 57))"
   ]
  },
  {
   "cell_type": "code",
   "execution_count": 36,
   "id": "9042cf0d",
   "metadata": {},
   "outputs": [
    {
     "data": {
      "text/plain": [
       "57"
      ]
     },
     "execution_count": 36,
     "metadata": {},
     "output_type": "execute_result"
    }
   ],
   "source": [
    "sometime2 = dt.datetime(2021, 5, 15, 17, 15, 57)\n",
    "\n",
    "sometime2.year\n",
    "sometime2.month\n",
    "sometime2.day\n",
    "sometime2.hour\n",
    "sometime2.minute\n",
    "sometime2.second"
   ]
  },
  {
   "cell_type": "markdown",
   "id": "89756434",
   "metadata": {},
   "source": [
    "### Pandas Timestamp object\n",
    "- Essentailly pandas version Python datetime\n",
    "- Defaults to midnight for time if not specified\n",
    "- Using the format of 2021-5-1 or 2021/5/1 or 2021,5,1 doesnt matter, pandas will generate it."
   ]
  },
  {
   "cell_type": "code",
   "execution_count": 37,
   "id": "07050d97",
   "metadata": {},
   "outputs": [
    {
     "data": {
      "text/plain": [
       "Timestamp('2021-03-31 18:10:15')"
      ]
     },
     "execution_count": 37,
     "metadata": {},
     "output_type": "execute_result"
    }
   ],
   "source": [
    "pd.Timestamp('2021-3-31')\n",
    "pd.Timestamp('2021/3/31')\n",
    "\n",
    "# with am time\n",
    "pd.Timestamp('2021-3-31 08:35:15')\n",
    "\n",
    "# with pm time, converts to mil time\n",
    "pd.Timestamp('2021-3-31 06:10:15 pm')"
   ]
  },
  {
   "cell_type": "markdown",
   "id": "a96a6ec8",
   "metadata": {},
   "source": [
    "#### Pandas DateTimeIndex Object\n",
    "- essentially a colection of pandas timestamps"
   ]
  },
  {
   "cell_type": "code",
   "execution_count": 38,
   "id": "7671f70a",
   "metadata": {},
   "outputs": [
    {
     "data": {
      "text/plain": [
       "DatetimeIndex(['2016-01-02', '2021-05-15', '2009-09-07'], dtype='datetime64[ns]', freq=None)"
      ]
     },
     "execution_count": 38,
     "metadata": {},
     "output_type": "execute_result"
    }
   ],
   "source": [
    "dates = ['2016-01-02', '2021-05-15', '2009-09-7']\n",
    "\n",
    "# converts list of strings to dt index object\n",
    "pd.DatetimeIndex(dates)"
   ]
  },
  {
   "cell_type": "code",
   "execution_count": 39,
   "id": "7feee318",
   "metadata": {},
   "outputs": [
    {
     "data": {
      "text/plain": [
       "pandas.core.indexes.datetimes.DatetimeIndex"
      ]
     },
     "execution_count": 39,
     "metadata": {},
     "output_type": "execute_result"
    }
   ],
   "source": [
    "# view type\n",
    "type(pd.DatetimeIndex(dates))"
   ]
  },
  {
   "cell_type": "code",
   "execution_count": 40,
   "id": "1bcea1b7",
   "metadata": {},
   "outputs": [
    {
     "data": {
      "text/plain": [
       "DatetimeIndex(['2016-01-10', '2020-01-01', '2003-04-15'], dtype='datetime64[ns]', freq=None)"
      ]
     },
     "execution_count": 40,
     "metadata": {},
     "output_type": "execute_result"
    }
   ],
   "source": [
    "# use py date time module to recreate dates var list\n",
    "dates = [dt.date(2016, 1, 10), dt.date(2020, 1, 1), dt.date(2003, 4, 15)]\n",
    "\n",
    "pd.DatetimeIndex(dates)"
   ]
  },
  {
   "cell_type": "code",
   "execution_count": 41,
   "id": "c5f186e1",
   "metadata": {},
   "outputs": [
    {
     "data": {
      "text/plain": [
       "2016-01-10    100\n",
       "2020-01-01    200\n",
       "2003-04-15    300\n",
       "dtype: int64"
      ]
     },
     "execution_count": 41,
     "metadata": {},
     "output_type": "execute_result"
    }
   ],
   "source": [
    "# create a series and we will use the Datetime index as the index for this series\n",
    "\n",
    "dtIndex = pd.DatetimeIndex(dates)\n",
    "\n",
    "values = [100,200,300]\n",
    "pd.Series(data = values, index = dtIndex)"
   ]
  },
  {
   "cell_type": "markdown",
   "id": "ecdcddc4",
   "metadata": {},
   "source": [
    "### The pd.to_datetime( ) method\n",
    "- converts to relevant time, timestamp in pandas"
   ]
  },
  {
   "cell_type": "code",
   "execution_count": 42,
   "id": "93007c8f",
   "metadata": {},
   "outputs": [
    {
     "data": {
      "text/plain": [
       "Timestamp('2001-04-19 00:00:00')"
      ]
     },
     "execution_count": 42,
     "metadata": {},
     "output_type": "execute_result"
    }
   ],
   "source": [
    "# automatically converts to a pandas timestamp\n",
    "pd.to_datetime('2001/04/19')"
   ]
  },
  {
   "cell_type": "code",
   "execution_count": 43,
   "id": "0e94a21f",
   "metadata": {},
   "outputs": [
    {
     "data": {
      "text/plain": [
       "Timestamp('2015-01-01 14:35:20')"
      ]
     },
     "execution_count": 43,
     "metadata": {},
     "output_type": "execute_result"
    }
   ],
   "source": [
    "# convert date time arg to time stamp\n",
    "pd.to_datetime(dt.datetime(2015, 1, 1, 14, 35, 20))"
   ]
  },
  {
   "cell_type": "code",
   "execution_count": 44,
   "id": "8fef1e85",
   "metadata": {},
   "outputs": [
    {
     "data": {
      "text/plain": [
       "DatetimeIndex(['2015-01-03', '1999-07-04', '2014-02-08'], dtype='datetime64[ns]', freq=None)"
      ]
     },
     "execution_count": 44,
     "metadata": {},
     "output_type": "execute_result"
    }
   ],
   "source": [
    "# pandas can take a list with mutiple formatts as well\n",
    "pd.to_datetime(['2015-01-03', 'July 4th, 1999', '2014/02/08'])"
   ]
  },
  {
   "cell_type": "code",
   "execution_count": 45,
   "id": "fa878a27",
   "metadata": {},
   "outputs": [
    {
     "data": {
      "text/plain": [
       "0        2015-01-03\n",
       "1    July 4th, 1999\n",
       "2        2014/02/08\n",
       "dtype: object"
      ]
     },
     "execution_count": 45,
     "metadata": {},
     "output_type": "execute_result"
    }
   ],
   "source": [
    "# create a series and convrt it to datetime\n",
    "times = pd.Series(['2015-01-03', 'July 4th, 1999', '2014/02/08'])\n",
    "\n",
    "times"
   ]
  },
  {
   "cell_type": "code",
   "execution_count": 46,
   "id": "4b576f76",
   "metadata": {},
   "outputs": [
    {
     "data": {
      "text/plain": [
       "0   2015-01-03\n",
       "1   1999-07-04\n",
       "2   2014-02-08\n",
       "dtype: datetime64[ns]"
      ]
     },
     "execution_count": 46,
     "metadata": {},
     "output_type": "execute_result"
    }
   ],
   "source": [
    "# convert the series to date time by passing the series variable to pd.to_datetime - formatted as DT\n",
    "pd.to_datetime(times)"
   ]
  },
  {
   "cell_type": "markdown",
   "id": "8be70044",
   "metadata": {},
   "source": [
    "#### Dealing with errors from bad data when using pd.to_datetime( )"
   ]
  },
  {
   "cell_type": "code",
   "execution_count": 47,
   "id": "76b5c711",
   "metadata": {},
   "outputs": [
    {
     "data": {
      "text/plain": [
       "0        2015-01-03\n",
       "1    July 4th, 1999\n",
       "2             Hello\n",
       "3        2021-02-31\n",
       "dtype: object"
      ]
     },
     "execution_count": 47,
     "metadata": {},
     "output_type": "execute_result"
    }
   ],
   "source": [
    "# create a series with a slist and some bad data in it - word and imposible date in February\n",
    "dates = pd.Series(['2015-01-03', 'July 4th, 1999', 'Hello', '2021-02-31'])\n",
    "dates"
   ]
  },
  {
   "cell_type": "code",
   "execution_count": 48,
   "id": "ee27cb80",
   "metadata": {},
   "outputs": [
    {
     "data": {
      "text/plain": [
       "0   2015-01-03\n",
       "1   1999-07-04\n",
       "2          NaT\n",
       "3          NaT\n",
       "dtype: datetime64[ns]"
      ]
     },
     "execution_count": 48,
     "metadata": {},
     "output_type": "execute_result"
    }
   ],
   "source": [
    "# try passing to pd.to_datetime will result in an error, you must use erros = \"coerce\"\n",
    "# this turns the bad data into a NaT - not a tdatetime rather outputs null value\n",
    "pd.to_datetime(dates, errors=\"coerce\")"
   ]
  },
  {
   "cell_type": "markdown",
   "id": "75be9dd1",
   "metadata": {},
   "source": [
    "### Create a range of Dates with the pd.date_range( ) method pt1\n",
    "- Using start and end parameter\n",
    "- Default is D for days"
   ]
  },
  {
   "cell_type": "code",
   "execution_count": 50,
   "id": "5debbd58",
   "metadata": {},
   "outputs": [
    {
     "data": {
      "text/plain": [
       "pandas.core.indexes.datetimes.DatetimeIndex"
      ]
     },
     "execution_count": 50,
     "metadata": {},
     "output_type": "execute_result"
    }
   ],
   "source": [
    "# requires at least 2 paramters, use shift tab to view the docs\n",
    "# This code generates a date time index between these two dates by the day\n",
    "times = pd.date_range(start = '2016-01-01', end = '2016-01-10', freq='D')\n",
    "\n",
    "type(times)"
   ]
  },
  {
   "cell_type": "code",
   "execution_count": 51,
   "id": "d7024a17",
   "metadata": {},
   "outputs": [
    {
     "data": {
      "text/plain": [
       "DatetimeIndex(['2016-01-01', '2016-01-02', '2016-01-03', '2016-01-04',\n",
       "               '2016-01-05', '2016-01-06', '2016-01-07', '2016-01-08',\n",
       "               '2016-01-09', '2016-01-10'],\n",
       "              dtype='datetime64[ns]', freq='D')"
      ]
     },
     "execution_count": 51,
     "metadata": {},
     "output_type": "execute_result"
    }
   ],
   "source": [
    "times"
   ]
  },
  {
   "cell_type": "code",
   "execution_count": 52,
   "id": "9fa11114",
   "metadata": {},
   "outputs": [
    {
     "data": {
      "text/plain": [
       "Timestamp('2016-01-01 00:00:00', freq='D')"
      ]
     },
     "execution_count": 52,
     "metadata": {},
     "output_type": "execute_result"
    }
   ],
   "source": [
    "# 1st item'\n",
    "times[0]"
   ]
  },
  {
   "cell_type": "code",
   "execution_count": 53,
   "id": "21a506e2",
   "metadata": {},
   "outputs": [
    {
     "data": {
      "text/plain": [
       "DatetimeIndex(['2016-01-01', '2016-01-04', '2016-01-05', '2016-01-06',\n",
       "               '2016-01-07', '2016-01-08'],\n",
       "              dtype='datetime64[ns]', freq='B')"
      ]
     },
     "execution_count": 53,
     "metadata": {},
     "output_type": "execute_result"
    }
   ],
   "source": [
    "# additional use case - get only business days use FREQ=\"B\", THIS EXCLUDES WEEKENDS\n",
    "pd.date_range(start = '2016-01-01', end = '2016-01-10', freq='B')"
   ]
  },
  {
   "cell_type": "markdown",
   "id": "274bfc8d",
   "metadata": {},
   "source": [
    "### Create a range of Dates with the pd.date_range( ) method pt2\n"
   ]
  },
  {
   "cell_type": "code",
   "execution_count": null,
   "id": "cf0589cb",
   "metadata": {},
   "outputs": [],
   "source": []
  },
  {
   "cell_type": "markdown",
   "id": "84e54832",
   "metadata": {},
   "source": [
    "### Create a range of Dates with the pd.date_range( ) method pt3"
   ]
  },
  {
   "cell_type": "code",
   "execution_count": null,
   "id": "32f88c21",
   "metadata": {},
   "outputs": [],
   "source": []
  },
  {
   "cell_type": "markdown",
   "id": "85d89485",
   "metadata": {},
   "source": [
    "### .dt Accessor"
   ]
  },
  {
   "cell_type": "code",
   "execution_count": null,
   "id": "6736b2da",
   "metadata": {},
   "outputs": [],
   "source": []
  },
  {
   "cell_type": "markdown",
   "id": "2abcaf23",
   "metadata": {},
   "source": [
    "### Time Delta Object\n",
    "- uses a measurement of time to capture difference\n",
    "- can use days, hours, minutes, seconds all at the same time in paramters."
   ]
  },
  {
   "cell_type": "code",
   "execution_count": 56,
   "id": "7901a461",
   "metadata": {},
   "outputs": [
    {
     "data": {
      "text/plain": [
       "Timedelta('11 days 14:19:27')"
      ]
     },
     "execution_count": 56,
     "metadata": {},
     "output_type": "execute_result"
    }
   ],
   "source": [
    "# creating a time delta object and subtract them from one another\n",
    "time_a = pd.to_datetime('2020-03-31 04:35:16PM')\n",
    "\n",
    "time_b = pd.to_datetime('2020-03-20 02:15:49AM')\n",
    "\n",
    "# this method prodcues a time delts object\n",
    "time_a - time_b"
   ]
  },
  {
   "cell_type": "code",
   "execution_count": 58,
   "id": "4bfd8161",
   "metadata": {},
   "outputs": [
    {
     "data": {
      "text/plain": [
       "Timestamp('2020-04-03 16:35:16')"
      ]
     },
     "execution_count": 58,
     "metadata": {},
     "output_type": "execute_result"
    }
   ],
   "source": [
    "# CREATE OUR OWN TIMEDELTS WITH PANDAS!\n",
    "# You can provide parameter fro days, months etc\n",
    "# below adds 3 days to the inital date used for time_a which was 2020-03-31 nad ends now with 2020-04-03\n",
    "time_a + pd.Timedelta(days=3)"
   ]
  },
  {
   "cell_type": "code",
   "execution_count": 60,
   "id": "57251cd3",
   "metadata": {},
   "outputs": [
    {
     "data": {
      "text/plain": [
       "Timedelta('0 days 06:05:00')"
      ]
     },
     "execution_count": 60,
     "metadata": {},
     "output_type": "execute_result"
    }
   ],
   "source": [
    "# TD can parse text as well\n",
    "pd.Timedelta(\"6 hours 5 minutes\")"
   ]
  },
  {
   "cell_type": "markdown",
   "id": "41031714",
   "metadata": {},
   "source": [
    "### Time Deltas in a dataset\n",
    "- real world applied tech"
   ]
  },
  {
   "cell_type": "code",
   "execution_count": 78,
   "id": "874375d5",
   "metadata": {},
   "outputs": [
    {
     "data": {
      "text/html": [
       "<div>\n",
       "<style scoped>\n",
       "    .dataframe tbody tr th:only-of-type {\n",
       "        vertical-align: middle;\n",
       "    }\n",
       "\n",
       "    .dataframe tbody tr th {\n",
       "        vertical-align: top;\n",
       "    }\n",
       "\n",
       "    .dataframe thead th {\n",
       "        text-align: right;\n",
       "    }\n",
       "</style>\n",
       "<table border=\"1\" class=\"dataframe\">\n",
       "  <thead>\n",
       "    <tr style=\"text-align: right;\">\n",
       "      <th></th>\n",
       "      <th>order_date</th>\n",
       "      <th>delivery_date</th>\n",
       "    </tr>\n",
       "    <tr>\n",
       "      <th>ID</th>\n",
       "      <th></th>\n",
       "      <th></th>\n",
       "    </tr>\n",
       "  </thead>\n",
       "  <tbody>\n",
       "    <tr>\n",
       "      <th>1</th>\n",
       "      <td>1998-05-24</td>\n",
       "      <td>1999-02-05</td>\n",
       "    </tr>\n",
       "    <tr>\n",
       "      <th>2</th>\n",
       "      <td>1992-04-22</td>\n",
       "      <td>1998-03-06</td>\n",
       "    </tr>\n",
       "    <tr>\n",
       "      <th>4</th>\n",
       "      <td>1991-02-10</td>\n",
       "      <td>1992-08-26</td>\n",
       "    </tr>\n",
       "  </tbody>\n",
       "</table>\n",
       "</div>"
      ],
      "text/plain": [
       "   order_date delivery_date\n",
       "ID                         \n",
       "1  1998-05-24    1999-02-05\n",
       "2  1992-04-22    1998-03-06\n",
       "4  1991-02-10    1992-08-26"
      ]
     },
     "execution_count": 78,
     "metadata": {},
     "output_type": "execute_result"
    }
   ],
   "source": [
    "# import a dataset to use, make sure to parse dates since we are using the dates for the delta\n",
    "shipping = pd.read_csv('../datasets/ecommerce.csv', index_col=\"ID\", parse_dates=['order_date', 'delivery_date'])\n",
    "\n",
    "shipping.head(3)"
   ]
  },
  {
   "cell_type": "markdown",
   "id": "6828903a",
   "metadata": {},
   "source": [
    "#### How long did it take to ship for each customer?"
   ]
  },
  {
   "cell_type": "code",
   "execution_count": 79,
   "id": "4be90b4f",
   "metadata": {},
   "outputs": [
    {
     "data": {
      "text/html": [
       "<div>\n",
       "<style scoped>\n",
       "    .dataframe tbody tr th:only-of-type {\n",
       "        vertical-align: middle;\n",
       "    }\n",
       "\n",
       "    .dataframe tbody tr th {\n",
       "        vertical-align: top;\n",
       "    }\n",
       "\n",
       "    .dataframe thead th {\n",
       "        text-align: right;\n",
       "    }\n",
       "</style>\n",
       "<table border=\"1\" class=\"dataframe\">\n",
       "  <thead>\n",
       "    <tr style=\"text-align: right;\">\n",
       "      <th></th>\n",
       "      <th>order_date</th>\n",
       "      <th>delivery_date</th>\n",
       "      <th>Delivery_Time</th>\n",
       "    </tr>\n",
       "    <tr>\n",
       "      <th>ID</th>\n",
       "      <th></th>\n",
       "      <th></th>\n",
       "      <th></th>\n",
       "    </tr>\n",
       "  </thead>\n",
       "  <tbody>\n",
       "    <tr>\n",
       "      <th>1</th>\n",
       "      <td>1998-05-24</td>\n",
       "      <td>1999-02-05</td>\n",
       "      <td>257 days</td>\n",
       "    </tr>\n",
       "    <tr>\n",
       "      <th>2</th>\n",
       "      <td>1992-04-22</td>\n",
       "      <td>1998-03-06</td>\n",
       "      <td>2144 days</td>\n",
       "    </tr>\n",
       "    <tr>\n",
       "      <th>4</th>\n",
       "      <td>1991-02-10</td>\n",
       "      <td>1992-08-26</td>\n",
       "      <td>563 days</td>\n",
       "    </tr>\n",
       "    <tr>\n",
       "      <th>5</th>\n",
       "      <td>1992-07-21</td>\n",
       "      <td>1997-11-20</td>\n",
       "      <td>1948 days</td>\n",
       "    </tr>\n",
       "    <tr>\n",
       "      <th>7</th>\n",
       "      <td>1993-09-02</td>\n",
       "      <td>1998-06-10</td>\n",
       "      <td>1742 days</td>\n",
       "    </tr>\n",
       "  </tbody>\n",
       "</table>\n",
       "</div>"
      ],
      "text/plain": [
       "   order_date delivery_date Delivery_Time\n",
       "ID                                       \n",
       "1  1998-05-24    1999-02-05      257 days\n",
       "2  1992-04-22    1998-03-06     2144 days\n",
       "4  1991-02-10    1992-08-26      563 days\n",
       "5  1992-07-21    1997-11-20     1948 days\n",
       "7  1993-09-02    1998-06-10     1742 days"
      ]
     },
     "execution_count": 79,
     "metadata": {},
     "output_type": "execute_result"
    }
   ],
   "source": [
    "# add as a brand new column in the DF\n",
    "shipping['Delivery_Time'] = shipping['delivery_date'] - shipping['order_date']\n",
    "\n",
    "shipping.head()"
   ]
  },
  {
   "cell_type": "code",
   "execution_count": 80,
   "id": "32ec90c9",
   "metadata": {},
   "outputs": [
    {
     "data": {
      "text/html": [
       "<div>\n",
       "<style scoped>\n",
       "    .dataframe tbody tr th:only-of-type {\n",
       "        vertical-align: middle;\n",
       "    }\n",
       "\n",
       "    .dataframe tbody tr th {\n",
       "        vertical-align: top;\n",
       "    }\n",
       "\n",
       "    .dataframe thead th {\n",
       "        text-align: right;\n",
       "    }\n",
       "</style>\n",
       "<table border=\"1\" class=\"dataframe\">\n",
       "  <thead>\n",
       "    <tr style=\"text-align: right;\">\n",
       "      <th></th>\n",
       "      <th>order_date</th>\n",
       "      <th>delivery_date</th>\n",
       "      <th>Delivery_Time</th>\n",
       "      <th>Expected_Delivery_Date30</th>\n",
       "    </tr>\n",
       "    <tr>\n",
       "      <th>ID</th>\n",
       "      <th></th>\n",
       "      <th></th>\n",
       "      <th></th>\n",
       "      <th></th>\n",
       "    </tr>\n",
       "  </thead>\n",
       "  <tbody>\n",
       "    <tr>\n",
       "      <th>1</th>\n",
       "      <td>1998-05-24</td>\n",
       "      <td>1999-02-05</td>\n",
       "      <td>257 days</td>\n",
       "      <td>1998-06-24</td>\n",
       "    </tr>\n",
       "    <tr>\n",
       "      <th>2</th>\n",
       "      <td>1992-04-22</td>\n",
       "      <td>1998-03-06</td>\n",
       "      <td>2144 days</td>\n",
       "      <td>1992-05-23</td>\n",
       "    </tr>\n",
       "    <tr>\n",
       "      <th>4</th>\n",
       "      <td>1991-02-10</td>\n",
       "      <td>1992-08-26</td>\n",
       "      <td>563 days</td>\n",
       "      <td>1991-03-13</td>\n",
       "    </tr>\n",
       "    <tr>\n",
       "      <th>5</th>\n",
       "      <td>1992-07-21</td>\n",
       "      <td>1997-11-20</td>\n",
       "      <td>1948 days</td>\n",
       "      <td>1992-08-21</td>\n",
       "    </tr>\n",
       "    <tr>\n",
       "      <th>7</th>\n",
       "      <td>1993-09-02</td>\n",
       "      <td>1998-06-10</td>\n",
       "      <td>1742 days</td>\n",
       "      <td>1993-10-03</td>\n",
       "    </tr>\n",
       "  </tbody>\n",
       "</table>\n",
       "</div>"
      ],
      "text/plain": [
       "   order_date delivery_date Delivery_Time Expected_Delivery_Date30\n",
       "ID                                                                \n",
       "1  1998-05-24    1999-02-05      257 days               1998-06-24\n",
       "2  1992-04-22    1998-03-06     2144 days               1992-05-23\n",
       "4  1991-02-10    1992-08-26      563 days               1991-03-13\n",
       "5  1992-07-21    1997-11-20     1948 days               1992-08-21\n",
       "7  1993-09-02    1998-06-10     1742 days               1993-10-03"
      ]
     },
     "execution_count": 80,
     "metadata": {},
     "output_type": "execute_result"
    }
   ],
   "source": [
    "# add a new col called expected delivery date\n",
    "shipping['Expected_Delivery_Date30'] = shipping['order_date'] + pd.Timedelta(days=30)+pd.Timedelta(days=1)\n",
    "\n",
    "shipping.head()"
   ]
  },
  {
   "cell_type": "code",
   "execution_count": 81,
   "id": "86fc652f",
   "metadata": {},
   "outputs": [
    {
     "data": {
      "text/html": [
       "<div>\n",
       "<style scoped>\n",
       "    .dataframe tbody tr th:only-of-type {\n",
       "        vertical-align: middle;\n",
       "    }\n",
       "\n",
       "    .dataframe tbody tr th {\n",
       "        vertical-align: top;\n",
       "    }\n",
       "\n",
       "    .dataframe thead th {\n",
       "        text-align: right;\n",
       "    }\n",
       "</style>\n",
       "<table border=\"1\" class=\"dataframe\">\n",
       "  <thead>\n",
       "    <tr style=\"text-align: right;\">\n",
       "      <th></th>\n",
       "      <th>order_date</th>\n",
       "      <th>delivery_date</th>\n",
       "      <th>Delivery_Time</th>\n",
       "      <th>Expected_Delivery_Date30</th>\n",
       "      <th>Expected_Delivery_Date60</th>\n",
       "    </tr>\n",
       "    <tr>\n",
       "      <th>ID</th>\n",
       "      <th></th>\n",
       "      <th></th>\n",
       "      <th></th>\n",
       "      <th></th>\n",
       "      <th></th>\n",
       "    </tr>\n",
       "  </thead>\n",
       "  <tbody>\n",
       "    <tr>\n",
       "      <th>1</th>\n",
       "      <td>1998-05-24</td>\n",
       "      <td>1999-02-05</td>\n",
       "      <td>257 days</td>\n",
       "      <td>1998-06-24</td>\n",
       "      <td>1998-07-24</td>\n",
       "    </tr>\n",
       "    <tr>\n",
       "      <th>2</th>\n",
       "      <td>1992-04-22</td>\n",
       "      <td>1998-03-06</td>\n",
       "      <td>2144 days</td>\n",
       "      <td>1992-05-23</td>\n",
       "      <td>1992-06-22</td>\n",
       "    </tr>\n",
       "    <tr>\n",
       "      <th>4</th>\n",
       "      <td>1991-02-10</td>\n",
       "      <td>1992-08-26</td>\n",
       "      <td>563 days</td>\n",
       "      <td>1991-03-13</td>\n",
       "      <td>1991-04-12</td>\n",
       "    </tr>\n",
       "    <tr>\n",
       "      <th>5</th>\n",
       "      <td>1992-07-21</td>\n",
       "      <td>1997-11-20</td>\n",
       "      <td>1948 days</td>\n",
       "      <td>1992-08-21</td>\n",
       "      <td>1992-09-20</td>\n",
       "    </tr>\n",
       "    <tr>\n",
       "      <th>7</th>\n",
       "      <td>1993-09-02</td>\n",
       "      <td>1998-06-10</td>\n",
       "      <td>1742 days</td>\n",
       "      <td>1993-10-03</td>\n",
       "      <td>1993-11-02</td>\n",
       "    </tr>\n",
       "  </tbody>\n",
       "</table>\n",
       "</div>"
      ],
      "text/plain": [
       "   order_date delivery_date Delivery_Time Expected_Delivery_Date30  \\\n",
       "ID                                                                   \n",
       "1  1998-05-24    1999-02-05      257 days               1998-06-24   \n",
       "2  1992-04-22    1998-03-06     2144 days               1992-05-23   \n",
       "4  1991-02-10    1992-08-26      563 days               1991-03-13   \n",
       "5  1992-07-21    1997-11-20     1948 days               1992-08-21   \n",
       "7  1993-09-02    1998-06-10     1742 days               1993-10-03   \n",
       "\n",
       "   Expected_Delivery_Date60  \n",
       "ID                           \n",
       "1                1998-07-24  \n",
       "2                1992-06-22  \n",
       "4                1991-04-12  \n",
       "5                1992-09-20  \n",
       "7                1993-11-02  "
      ]
     },
     "execution_count": 81,
     "metadata": {},
     "output_type": "execute_result"
    }
   ],
   "source": [
    "# add 60\n",
    "shipping['Expected_Delivery_Date60'] = shipping['order_date'] + pd.Timedelta(days=60)+pd.Timedelta(days=1)\n",
    "\n",
    "shipping.head()"
   ]
  },
  {
   "cell_type": "code",
   "execution_count": 83,
   "id": "7de1a20b",
   "metadata": {},
   "outputs": [
    {
     "data": {
      "text/html": [
       "<div>\n",
       "<style scoped>\n",
       "    .dataframe tbody tr th:only-of-type {\n",
       "        vertical-align: middle;\n",
       "    }\n",
       "\n",
       "    .dataframe tbody tr th {\n",
       "        vertical-align: top;\n",
       "    }\n",
       "\n",
       "    .dataframe thead th {\n",
       "        text-align: right;\n",
       "    }\n",
       "</style>\n",
       "<table border=\"1\" class=\"dataframe\">\n",
       "  <thead>\n",
       "    <tr style=\"text-align: right;\">\n",
       "      <th></th>\n",
       "      <th>order_date</th>\n",
       "      <th>delivery_date</th>\n",
       "      <th>Delivery_Time</th>\n",
       "      <th>Expected_Delivery_Date30</th>\n",
       "      <th>Expected_Delivery_Date60</th>\n",
       "      <th>Expected_Delivery_Date90</th>\n",
       "    </tr>\n",
       "    <tr>\n",
       "      <th>ID</th>\n",
       "      <th></th>\n",
       "      <th></th>\n",
       "      <th></th>\n",
       "      <th></th>\n",
       "      <th></th>\n",
       "      <th></th>\n",
       "    </tr>\n",
       "  </thead>\n",
       "  <tbody>\n",
       "    <tr>\n",
       "      <th>1</th>\n",
       "      <td>1998-05-24</td>\n",
       "      <td>1999-02-05</td>\n",
       "      <td>257 days</td>\n",
       "      <td>1998-06-24</td>\n",
       "      <td>1998-07-24</td>\n",
       "      <td>1998-08-23</td>\n",
       "    </tr>\n",
       "    <tr>\n",
       "      <th>2</th>\n",
       "      <td>1992-04-22</td>\n",
       "      <td>1998-03-06</td>\n",
       "      <td>2144 days</td>\n",
       "      <td>1992-05-23</td>\n",
       "      <td>1992-06-22</td>\n",
       "      <td>1992-07-22</td>\n",
       "    </tr>\n",
       "    <tr>\n",
       "      <th>4</th>\n",
       "      <td>1991-02-10</td>\n",
       "      <td>1992-08-26</td>\n",
       "      <td>563 days</td>\n",
       "      <td>1991-03-13</td>\n",
       "      <td>1991-04-12</td>\n",
       "      <td>1991-05-12</td>\n",
       "    </tr>\n",
       "    <tr>\n",
       "      <th>5</th>\n",
       "      <td>1992-07-21</td>\n",
       "      <td>1997-11-20</td>\n",
       "      <td>1948 days</td>\n",
       "      <td>1992-08-21</td>\n",
       "      <td>1992-09-20</td>\n",
       "      <td>1992-10-20</td>\n",
       "    </tr>\n",
       "    <tr>\n",
       "      <th>7</th>\n",
       "      <td>1993-09-02</td>\n",
       "      <td>1998-06-10</td>\n",
       "      <td>1742 days</td>\n",
       "      <td>1993-10-03</td>\n",
       "      <td>1993-11-02</td>\n",
       "      <td>1993-12-02</td>\n",
       "    </tr>\n",
       "  </tbody>\n",
       "</table>\n",
       "</div>"
      ],
      "text/plain": [
       "   order_date delivery_date Delivery_Time Expected_Delivery_Date30  \\\n",
       "ID                                                                   \n",
       "1  1998-05-24    1999-02-05      257 days               1998-06-24   \n",
       "2  1992-04-22    1998-03-06     2144 days               1992-05-23   \n",
       "4  1991-02-10    1992-08-26      563 days               1991-03-13   \n",
       "5  1992-07-21    1997-11-20     1948 days               1992-08-21   \n",
       "7  1993-09-02    1998-06-10     1742 days               1993-10-03   \n",
       "\n",
       "   Expected_Delivery_Date60 Expected_Delivery_Date90  \n",
       "ID                                                    \n",
       "1                1998-07-24               1998-08-23  \n",
       "2                1992-06-22               1992-07-22  \n",
       "4                1991-04-12               1991-05-12  \n",
       "5                1992-09-20               1992-10-20  \n",
       "7                1993-11-02               1993-12-02  "
      ]
     },
     "execution_count": 83,
     "metadata": {},
     "output_type": "execute_result"
    }
   ],
   "source": [
    "# add 90\n",
    "shipping['Expected_Delivery_Date90'] = shipping['order_date'] + pd.Timedelta(days=90)+pd.Timedelta(days=1)\n",
    "\n",
    "shipping.head()"
   ]
  },
  {
   "cell_type": "code",
   "execution_count": 85,
   "id": "eb9c0351",
   "metadata": {},
   "outputs": [
    {
     "data": {
      "text/html": [
       "<div>\n",
       "<style scoped>\n",
       "    .dataframe tbody tr th:only-of-type {\n",
       "        vertical-align: middle;\n",
       "    }\n",
       "\n",
       "    .dataframe tbody tr th {\n",
       "        vertical-align: top;\n",
       "    }\n",
       "\n",
       "    .dataframe thead th {\n",
       "        text-align: right;\n",
       "    }\n",
       "</style>\n",
       "<table border=\"1\" class=\"dataframe\">\n",
       "  <thead>\n",
       "    <tr style=\"text-align: right;\">\n",
       "      <th></th>\n",
       "      <th>order_date</th>\n",
       "      <th>delivery_date</th>\n",
       "      <th>Delivery_Time</th>\n",
       "      <th>Expected_Delivery_Date30</th>\n",
       "      <th>Expected_Delivery_Date60</th>\n",
       "      <th>Expected_Delivery_Date90</th>\n",
       "    </tr>\n",
       "    <tr>\n",
       "      <th>ID</th>\n",
       "      <th></th>\n",
       "      <th></th>\n",
       "      <th></th>\n",
       "      <th></th>\n",
       "      <th></th>\n",
       "      <th></th>\n",
       "    </tr>\n",
       "  </thead>\n",
       "  <tbody>\n",
       "    <tr>\n",
       "      <th>2</th>\n",
       "      <td>1992-04-22</td>\n",
       "      <td>1998-03-06</td>\n",
       "      <td>2144 days</td>\n",
       "      <td>1992-05-23</td>\n",
       "      <td>1992-06-22</td>\n",
       "      <td>1992-07-22</td>\n",
       "    </tr>\n",
       "    <tr>\n",
       "      <th>4</th>\n",
       "      <td>1991-02-10</td>\n",
       "      <td>1992-08-26</td>\n",
       "      <td>563 days</td>\n",
       "      <td>1991-03-13</td>\n",
       "      <td>1991-04-12</td>\n",
       "      <td>1991-05-12</td>\n",
       "    </tr>\n",
       "    <tr>\n",
       "      <th>5</th>\n",
       "      <td>1992-07-21</td>\n",
       "      <td>1997-11-20</td>\n",
       "      <td>1948 days</td>\n",
       "      <td>1992-08-21</td>\n",
       "      <td>1992-09-20</td>\n",
       "      <td>1992-10-20</td>\n",
       "    </tr>\n",
       "    <tr>\n",
       "      <th>7</th>\n",
       "      <td>1993-09-02</td>\n",
       "      <td>1998-06-10</td>\n",
       "      <td>1742 days</td>\n",
       "      <td>1993-10-03</td>\n",
       "      <td>1993-11-02</td>\n",
       "      <td>1993-12-02</td>\n",
       "    </tr>\n",
       "    <tr>\n",
       "      <th>9</th>\n",
       "      <td>1990-01-25</td>\n",
       "      <td>1994-10-02</td>\n",
       "      <td>1711 days</td>\n",
       "      <td>1990-02-25</td>\n",
       "      <td>1990-03-27</td>\n",
       "      <td>1990-04-26</td>\n",
       "    </tr>\n",
       "    <tr>\n",
       "      <th>...</th>\n",
       "      <td>...</td>\n",
       "      <td>...</td>\n",
       "      <td>...</td>\n",
       "      <td>...</td>\n",
       "      <td>...</td>\n",
       "      <td>...</td>\n",
       "    </tr>\n",
       "    <tr>\n",
       "      <th>986</th>\n",
       "      <td>1990-12-10</td>\n",
       "      <td>1992-12-16</td>\n",
       "      <td>737 days</td>\n",
       "      <td>1991-01-10</td>\n",
       "      <td>1991-02-09</td>\n",
       "      <td>1991-03-11</td>\n",
       "    </tr>\n",
       "    <tr>\n",
       "      <th>990</th>\n",
       "      <td>1991-06-24</td>\n",
       "      <td>1996-02-02</td>\n",
       "      <td>1684 days</td>\n",
       "      <td>1991-07-25</td>\n",
       "      <td>1991-08-24</td>\n",
       "      <td>1991-09-23</td>\n",
       "    </tr>\n",
       "    <tr>\n",
       "      <th>991</th>\n",
       "      <td>1991-09-09</td>\n",
       "      <td>1998-03-30</td>\n",
       "      <td>2394 days</td>\n",
       "      <td>1991-10-10</td>\n",
       "      <td>1991-11-09</td>\n",
       "      <td>1991-12-09</td>\n",
       "    </tr>\n",
       "    <tr>\n",
       "      <th>993</th>\n",
       "      <td>1990-11-16</td>\n",
       "      <td>1998-04-27</td>\n",
       "      <td>2719 days</td>\n",
       "      <td>1990-12-17</td>\n",
       "      <td>1991-01-16</td>\n",
       "      <td>1991-02-15</td>\n",
       "    </tr>\n",
       "    <tr>\n",
       "      <th>997</th>\n",
       "      <td>1990-01-04</td>\n",
       "      <td>1991-10-03</td>\n",
       "      <td>637 days</td>\n",
       "      <td>1990-02-04</td>\n",
       "      <td>1990-03-06</td>\n",
       "      <td>1990-04-05</td>\n",
       "    </tr>\n",
       "  </tbody>\n",
       "</table>\n",
       "<p>394 rows × 6 columns</p>\n",
       "</div>"
      ],
      "text/plain": [
       "    order_date delivery_date Delivery_Time Expected_Delivery_Date30  \\\n",
       "ID                                                                    \n",
       "2   1992-04-22    1998-03-06     2144 days               1992-05-23   \n",
       "4   1991-02-10    1992-08-26      563 days               1991-03-13   \n",
       "5   1992-07-21    1997-11-20     1948 days               1992-08-21   \n",
       "7   1993-09-02    1998-06-10     1742 days               1993-10-03   \n",
       "9   1990-01-25    1994-10-02     1711 days               1990-02-25   \n",
       "..         ...           ...           ...                      ...   \n",
       "986 1990-12-10    1992-12-16      737 days               1991-01-10   \n",
       "990 1991-06-24    1996-02-02     1684 days               1991-07-25   \n",
       "991 1991-09-09    1998-03-30     2394 days               1991-10-10   \n",
       "993 1990-11-16    1998-04-27     2719 days               1990-12-17   \n",
       "997 1990-01-04    1991-10-03      637 days               1990-02-04   \n",
       "\n",
       "    Expected_Delivery_Date60 Expected_Delivery_Date90  \n",
       "ID                                                     \n",
       "2                 1992-06-22               1992-07-22  \n",
       "4                 1991-04-12               1991-05-12  \n",
       "5                 1992-09-20               1992-10-20  \n",
       "7                 1993-11-02               1993-12-02  \n",
       "9                 1990-03-27               1990-04-26  \n",
       "..                       ...                      ...  \n",
       "986               1991-02-09               1991-03-11  \n",
       "990               1991-08-24               1991-09-23  \n",
       "991               1991-11-09               1991-12-09  \n",
       "993               1991-01-16               1991-02-15  \n",
       "997               1990-03-06               1990-04-05  \n",
       "\n",
       "[394 rows x 6 columns]"
      ]
     },
     "execution_count": 85,
     "metadata": {},
     "output_type": "execute_result"
    }
   ],
   "source": [
    "# find the worst orders that were > 1 year\n",
    "mask = shipping['Delivery_Time'] > '365 days'\n",
    "\n",
    "shipping[mask]"
   ]
  },
  {
   "cell_type": "code",
   "execution_count": 87,
   "id": "b791844e",
   "metadata": {},
   "outputs": [
    {
     "data": {
      "text/plain": [
       "Timedelta('3583 days 00:00:00')"
      ]
     },
     "execution_count": 87,
     "metadata": {},
     "output_type": "execute_result"
    }
   ],
   "source": [
    "# find the longest shipment time\n",
    "shipping['Delivery_Time'].max()"
   ]
  },
  {
   "cell_type": "code",
   "execution_count": null,
   "id": "648d5bbc",
   "metadata": {},
   "outputs": [],
   "source": []
  },
  {
   "cell_type": "code",
   "execution_count": null,
   "id": "4905012b",
   "metadata": {},
   "outputs": [],
   "source": []
  },
  {
   "cell_type": "code",
   "execution_count": null,
   "id": "ac35a075",
   "metadata": {},
   "outputs": [],
   "source": []
  },
  {
   "cell_type": "code",
   "execution_count": null,
   "id": "0366995b",
   "metadata": {},
   "outputs": [],
   "source": []
  },
  {
   "cell_type": "code",
   "execution_count": null,
   "id": "9c1f8701",
   "metadata": {},
   "outputs": [],
   "source": []
  },
  {
   "cell_type": "code",
   "execution_count": null,
   "id": "dd1992f3",
   "metadata": {},
   "outputs": [],
   "source": []
  },
  {
   "cell_type": "code",
   "execution_count": null,
   "id": "b96f83a4",
   "metadata": {},
   "outputs": [],
   "source": []
  }
 ],
 "metadata": {
  "kernelspec": {
   "display_name": "Python 3",
   "language": "python",
   "name": "python3"
  },
  "language_info": {
   "codemirror_mode": {
    "name": "ipython",
    "version": 3
   },
   "file_extension": ".py",
   "mimetype": "text/x-python",
   "name": "python",
   "nbconvert_exporter": "python",
   "pygments_lexer": "ipython3",
   "version": "3.8.8"
  }
 },
 "nbformat": 4,
 "nbformat_minor": 5
}
