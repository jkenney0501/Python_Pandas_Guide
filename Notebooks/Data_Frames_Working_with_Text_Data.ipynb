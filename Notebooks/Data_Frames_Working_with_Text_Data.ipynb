{
 "cells": [
  {
   "cell_type": "markdown",
   "id": "21878372",
   "metadata": {},
   "source": [
    "### Topics Cover:\n",
    "- lower, upper, title, len\n",
    "- Replace( )\n",
    "- Strip, lstrip, rstrip\n",
    "- split\n",
    "- paramters of str.split()"
   ]
  },
  {
   "cell_type": "code",
   "execution_count": 1,
   "id": "4bc7c889",
   "metadata": {},
   "outputs": [],
   "source": [
    "import pandas as pd"
   ]
  },
  {
   "cell_type": "markdown",
   "id": "f2d5c917",
   "metadata": {},
   "source": [
    "Import the chicago.csv and convert the department into a category since there are only a few unique values."
   ]
  },
  {
   "cell_type": "code",
   "execution_count": 12,
   "id": "ccce0d9b",
   "metadata": {},
   "outputs": [
    {
     "data": {
      "text/html": [
       "<div>\n",
       "<style scoped>\n",
       "    .dataframe tbody tr th:only-of-type {\n",
       "        vertical-align: middle;\n",
       "    }\n",
       "\n",
       "    .dataframe tbody tr th {\n",
       "        vertical-align: top;\n",
       "    }\n",
       "\n",
       "    .dataframe thead th {\n",
       "        text-align: right;\n",
       "    }\n",
       "</style>\n",
       "<table border=\"1\" class=\"dataframe\">\n",
       "  <thead>\n",
       "    <tr style=\"text-align: right;\">\n",
       "      <th></th>\n",
       "      <th>Name</th>\n",
       "      <th>Position Title</th>\n",
       "      <th>Department</th>\n",
       "      <th>Employee Annual Salary</th>\n",
       "    </tr>\n",
       "  </thead>\n",
       "  <tbody>\n",
       "    <tr>\n",
       "      <th>32057</th>\n",
       "      <td>ZYGADLO,  MICHAEL J</td>\n",
       "      <td>FRM OF MACHINISTS - AUTOMOTIVE</td>\n",
       "      <td>GENERAL SERVICES</td>\n",
       "      <td>$99528.00</td>\n",
       "    </tr>\n",
       "    <tr>\n",
       "      <th>32058</th>\n",
       "      <td>ZYGOWICZ,  PETER J</td>\n",
       "      <td>POLICE OFFICER</td>\n",
       "      <td>POLICE</td>\n",
       "      <td>$87384.00</td>\n",
       "    </tr>\n",
       "    <tr>\n",
       "      <th>32059</th>\n",
       "      <td>ZYMANTAS,  MARK E</td>\n",
       "      <td>POLICE OFFICER</td>\n",
       "      <td>POLICE</td>\n",
       "      <td>$84450.00</td>\n",
       "    </tr>\n",
       "    <tr>\n",
       "      <th>32060</th>\n",
       "      <td>ZYRKOWSKI,  CARLO E</td>\n",
       "      <td>POLICE OFFICER</td>\n",
       "      <td>POLICE</td>\n",
       "      <td>$87384.00</td>\n",
       "    </tr>\n",
       "    <tr>\n",
       "      <th>32061</th>\n",
       "      <td>ZYSKOWSKI,  DARIUSZ</td>\n",
       "      <td>CHIEF DATA BASE ANALYST</td>\n",
       "      <td>DoIT</td>\n",
       "      <td>$113664.00</td>\n",
       "    </tr>\n",
       "  </tbody>\n",
       "</table>\n",
       "</div>"
      ],
      "text/plain": [
       "                      Name                  Position Title        Department  \\\n",
       "32057  ZYGADLO,  MICHAEL J  FRM OF MACHINISTS - AUTOMOTIVE  GENERAL SERVICES   \n",
       "32058   ZYGOWICZ,  PETER J                  POLICE OFFICER            POLICE   \n",
       "32059    ZYMANTAS,  MARK E                  POLICE OFFICER            POLICE   \n",
       "32060  ZYRKOWSKI,  CARLO E                  POLICE OFFICER            POLICE   \n",
       "32061  ZYSKOWSKI,  DARIUSZ         CHIEF DATA BASE ANALYST              DoIT   \n",
       "\n",
       "      Employee Annual Salary  \n",
       "32057              $99528.00  \n",
       "32058              $87384.00  \n",
       "32059              $84450.00  \n",
       "32060              $87384.00  \n",
       "32061             $113664.00  "
      ]
     },
     "execution_count": 12,
     "metadata": {},
     "output_type": "execute_result"
    }
   ],
   "source": [
    "# drop the last row on import which is all null\n",
    "chicago = pd.read_csv('../datasets/chicago.csv').dropna(how=\"all\")\n",
    "\n",
    "# create category for memory optimization\n",
    "chicago[\"Department\"] = chicago[\"Department\"].astype('category')\n",
    "chicago.tail()"
   ]
  },
  {
   "cell_type": "markdown",
   "id": "b9c52394",
   "metadata": {},
   "source": [
    "lower( ) and upper( ) are very intuitive. The do as they state: lower creates a string that is all lower case and uppper to upper case. This is often handy for consistency across the data set."
   ]
  },
  {
   "cell_type": "code",
   "execution_count": 3,
   "id": "84f6a2b3",
   "metadata": {},
   "outputs": [
    {
     "data": {
      "text/plain": [
       "'TO UPPER'"
      ]
     },
     "execution_count": 3,
     "metadata": {},
     "output_type": "execute_result"
    }
   ],
   "source": [
    "# examples\n",
    "\"TO LOWER\".lower()\n",
    "\n",
    "\"to upper\".upper()"
   ]
  },
  {
   "cell_type": "code",
   "execution_count": 4,
   "id": "427deb68",
   "metadata": {},
   "outputs": [
    {
     "data": {
      "text/plain": [
       "'My Title Is Now A Proper Case'"
      ]
     },
     "execution_count": 4,
     "metadata": {},
     "output_type": "execute_result"
    }
   ],
   "source": [
    "# using title is also intuitive, it capitalizes every word using a space as an indicator (space is the default)\n",
    "\"my title is now a proper case\".title()"
   ]
  },
  {
   "cell_type": "code",
   "execution_count": 5,
   "id": "e94af4c4",
   "metadata": {},
   "outputs": [
    {
     "data": {
      "text/plain": [
       "23"
      ]
     },
     "execution_count": 5,
     "metadata": {},
     "output_type": "execute_result"
    }
   ],
   "source": [
    "# len( ) tells us the number of characters in the string. We pass as tring or var into it. Notice the space is counted below.\n",
    "len(\"how long is the string?\")"
   ]
  },
  {
   "cell_type": "markdown",
   "id": "65f1a517",
   "metadata": {},
   "source": [
    "#### Whenver we call a string method in pandas, we have to prefix our method with a .str.method( )"
   ]
  },
  {
   "cell_type": "code",
   "execution_count": 6,
   "id": "9fc4bf45",
   "metadata": {},
   "outputs": [
    {
     "data": {
      "text/html": [
       "<div>\n",
       "<style scoped>\n",
       "    .dataframe tbody tr th:only-of-type {\n",
       "        vertical-align: middle;\n",
       "    }\n",
       "\n",
       "    .dataframe tbody tr th {\n",
       "        vertical-align: top;\n",
       "    }\n",
       "\n",
       "    .dataframe thead th {\n",
       "        text-align: right;\n",
       "    }\n",
       "</style>\n",
       "<table border=\"1\" class=\"dataframe\">\n",
       "  <thead>\n",
       "    <tr style=\"text-align: right;\">\n",
       "      <th></th>\n",
       "      <th>Name</th>\n",
       "      <th>Position Title</th>\n",
       "      <th>Department</th>\n",
       "      <th>Employee Annual Salary</th>\n",
       "    </tr>\n",
       "  </thead>\n",
       "  <tbody>\n",
       "    <tr>\n",
       "      <th>0</th>\n",
       "      <td>AARON,  ELVIA J</td>\n",
       "      <td>Water Rate Taker</td>\n",
       "      <td>WATER MGMNT</td>\n",
       "      <td>$90744.00</td>\n",
       "    </tr>\n",
       "    <tr>\n",
       "      <th>1</th>\n",
       "      <td>AARON,  JEFFERY M</td>\n",
       "      <td>Police Officer</td>\n",
       "      <td>POLICE</td>\n",
       "      <td>$84450.00</td>\n",
       "    </tr>\n",
       "    <tr>\n",
       "      <th>2</th>\n",
       "      <td>AARON,  KARINA</td>\n",
       "      <td>Police Officer</td>\n",
       "      <td>POLICE</td>\n",
       "      <td>$84450.00</td>\n",
       "    </tr>\n",
       "  </tbody>\n",
       "</table>\n",
       "</div>"
      ],
      "text/plain": [
       "                Name    Position Title   Department Employee Annual Salary\n",
       "0    AARON,  ELVIA J  Water Rate Taker  WATER MGMNT              $90744.00\n",
       "1  AARON,  JEFFERY M    Police Officer       POLICE              $84450.00\n",
       "2     AARON,  KARINA    Police Officer       POLICE              $84450.00"
      ]
     },
     "execution_count": 6,
     "metadata": {},
     "output_type": "execute_result"
    }
   ],
   "source": [
    "# example: apply title to Name for proper casing. Remember, its needs to be reassigned ot be applied to the df.\n",
    "chicago['Position Title'] = chicago['Position Title'].str.title()\n",
    "\n",
    "chicago.head(3)"
   ]
  },
  {
   "cell_type": "markdown",
   "id": "efeb60c6",
   "metadata": {},
   "source": [
    "### Get the length of each var in a row"
   ]
  },
  {
   "cell_type": "code",
   "execution_count": 7,
   "id": "696866e6",
   "metadata": {},
   "outputs": [
    {
     "data": {
      "text/plain": [
       "0        11.0\n",
       "1         6.0\n",
       "2         6.0\n",
       "3        16.0\n",
       "4        11.0\n",
       "         ... \n",
       "32058     6.0\n",
       "32059     6.0\n",
       "32060     6.0\n",
       "32061     4.0\n",
       "32062     NaN\n",
       "Name: Department, Length: 32063, dtype: float64"
      ]
     },
     "execution_count": 7,
     "metadata": {},
     "output_type": "execute_result"
    }
   ],
   "source": [
    "# department len\n",
    "chicago[\"Department\"].str.len()"
   ]
  },
  {
   "cell_type": "markdown",
   "id": "ad548190",
   "metadata": {},
   "source": [
    "### The str.replace( ) method\n",
    "- take 2 arguements: 1. the character to replace 2.the character we choose to replace with.\n",
    "- example: we want to replace the comma with a dash, replace(\",\" , \"-\")"
   ]
  },
  {
   "cell_type": "code",
   "execution_count": 10,
   "id": "5bb74346",
   "metadata": {},
   "outputs": [
    {
     "data": {
      "text/plain": [
       "'replace-this-empty-space.'"
      ]
     },
     "execution_count": 10,
     "metadata": {},
     "output_type": "execute_result"
    }
   ],
   "source": [
    "# example, replace the empty space with a dash\n",
    "\"replace this empty space.\".replace(\" \", \"-\")"
   ]
  },
  {
   "cell_type": "markdown",
   "id": "6fe97765",
   "metadata": {},
   "source": [
    "### Replace the MGMNT in the department variable with the full name of \"Management\".\n",
    "- To reassign use an assignment to the variable."
   ]
  },
  {
   "cell_type": "code",
   "execution_count": 14,
   "id": "581c977a",
   "metadata": {},
   "outputs": [
    {
     "data": {
      "text/plain": [
       "0        WATER MANAGEMENT\n",
       "1                  POLICE\n",
       "2                  POLICE\n",
       "3        GENERAL SERVICES\n",
       "4        WATER MANAGEMENT\n",
       "               ...       \n",
       "32057    GENERAL SERVICES\n",
       "32058              POLICE\n",
       "32059              POLICE\n",
       "32060              POLICE\n",
       "32061                DoIT\n",
       "Name: Department, Length: 32062, dtype: object"
      ]
     },
     "execution_count": 14,
     "metadata": {},
     "output_type": "execute_result"
    }
   ],
   "source": [
    "# series example\n",
    "chicago['Department'].str.replace(\"MGMNT\", \"MANAGEMENT\")"
   ]
  },
  {
   "cell_type": "code",
   "execution_count": 15,
   "id": "8af2f46b",
   "metadata": {},
   "outputs": [
    {
     "data": {
      "text/html": [
       "<div>\n",
       "<style scoped>\n",
       "    .dataframe tbody tr th:only-of-type {\n",
       "        vertical-align: middle;\n",
       "    }\n",
       "\n",
       "    .dataframe tbody tr th {\n",
       "        vertical-align: top;\n",
       "    }\n",
       "\n",
       "    .dataframe thead th {\n",
       "        text-align: right;\n",
       "    }\n",
       "</style>\n",
       "<table border=\"1\" class=\"dataframe\">\n",
       "  <thead>\n",
       "    <tr style=\"text-align: right;\">\n",
       "      <th></th>\n",
       "      <th>Name</th>\n",
       "      <th>Position Title</th>\n",
       "      <th>Department</th>\n",
       "      <th>Employee Annual Salary</th>\n",
       "    </tr>\n",
       "  </thead>\n",
       "  <tbody>\n",
       "    <tr>\n",
       "      <th>0</th>\n",
       "      <td>AARON,  ELVIA J</td>\n",
       "      <td>WATER RATE TAKER</td>\n",
       "      <td>WATER MANAGEMENT</td>\n",
       "      <td>$90744.00</td>\n",
       "    </tr>\n",
       "  </tbody>\n",
       "</table>\n",
       "</div>"
      ],
      "text/plain": [
       "              Name    Position Title        Department Employee Annual Salary\n",
       "0  AARON,  ELVIA J  WATER RATE TAKER  WATER MANAGEMENT              $90744.00"
      ]
     },
     "execution_count": 15,
     "metadata": {},
     "output_type": "execute_result"
    }
   ],
   "source": [
    "# reassign the variable\n",
    "chicago['Department'] = chicago['Department'].str.replace(\"MGMNT\", \"MANAGEMENT\")\n",
    "\n",
    "chicago.head(1)"
   ]
  },
  {
   "cell_type": "markdown",
   "id": "275cc355",
   "metadata": {},
   "source": [
    "### Take the Employees Annual Salary varibale and remove the dollar sign.\n",
    "- for numeric columns with a dollar sign or any special type cgharacter, the column is a string. We cannot use math functions like sum or avergae on them so we need to remove it and convert to float or int.\n",
    "\n",
    "- Remember that on import we dropped the null rows. Whenver there is a null row, Pandas will by default convert that column to a floating point value. Iin this case, it appears as a floating point but it is a string."
   ]
  },
  {
   "cell_type": "code",
   "execution_count": 20,
   "id": "5dccef22",
   "metadata": {},
   "outputs": [
    {
     "name": "stderr",
     "output_type": "stream",
     "text": [
      "<ipython-input-20-f129112ec1b7>:2: FutureWarning: The default value of regex will change from True to False in a future version. In addition, single character regular expressions will*not* be treated as literal strings when regex=True.\n",
      "  chicago[\"Employee Annual Salary\"] = chicago[\"Employee Annual Salary\"].str.replace(\"$\", \"\").astype('float')\n"
     ]
    },
    {
     "data": {
      "text/html": [
       "<div>\n",
       "<style scoped>\n",
       "    .dataframe tbody tr th:only-of-type {\n",
       "        vertical-align: middle;\n",
       "    }\n",
       "\n",
       "    .dataframe tbody tr th {\n",
       "        vertical-align: top;\n",
       "    }\n",
       "\n",
       "    .dataframe thead th {\n",
       "        text-align: right;\n",
       "    }\n",
       "</style>\n",
       "<table border=\"1\" class=\"dataframe\">\n",
       "  <thead>\n",
       "    <tr style=\"text-align: right;\">\n",
       "      <th></th>\n",
       "      <th>Name</th>\n",
       "      <th>Position Title</th>\n",
       "      <th>Department</th>\n",
       "      <th>Employee Annual Salary</th>\n",
       "    </tr>\n",
       "  </thead>\n",
       "  <tbody>\n",
       "    <tr>\n",
       "      <th>0</th>\n",
       "      <td>AARON,  ELVIA J</td>\n",
       "      <td>WATER RATE TAKER</td>\n",
       "      <td>WATER MANAGEMENT</td>\n",
       "      <td>90744.0</td>\n",
       "    </tr>\n",
       "    <tr>\n",
       "      <th>1</th>\n",
       "      <td>AARON,  JEFFERY M</td>\n",
       "      <td>POLICE OFFICER</td>\n",
       "      <td>POLICE</td>\n",
       "      <td>84450.0</td>\n",
       "    </tr>\n",
       "    <tr>\n",
       "      <th>2</th>\n",
       "      <td>AARON,  KARINA</td>\n",
       "      <td>POLICE OFFICER</td>\n",
       "      <td>POLICE</td>\n",
       "      <td>84450.0</td>\n",
       "    </tr>\n",
       "  </tbody>\n",
       "</table>\n",
       "</div>"
      ],
      "text/plain": [
       "                Name    Position Title        Department  \\\n",
       "0    AARON,  ELVIA J  WATER RATE TAKER  WATER MANAGEMENT   \n",
       "1  AARON,  JEFFERY M    POLICE OFFICER            POLICE   \n",
       "2     AARON,  KARINA    POLICE OFFICER            POLICE   \n",
       "\n",
       "   Employee Annual Salary  \n",
       "0                 90744.0  \n",
       "1                 84450.0  \n",
       "2                 84450.0  "
      ]
     },
     "execution_count": 20,
     "metadata": {},
     "output_type": "execute_result"
    }
   ],
   "source": [
    "# replace the dollar sign with nothing ot an empty string \"\"\n",
    "chicago[\"Employee Annual Salary\"] = chicago[\"Employee Annual Salary\"].str.replace(\"$\", \"\").astype('float')\n",
    "\n",
    "chicago.head(3)"
   ]
  },
  {
   "cell_type": "code",
   "execution_count": 24,
   "id": "790d214e",
   "metadata": {},
   "outputs": [
    {
     "data": {
      "text/html": [
       "<div>\n",
       "<style scoped>\n",
       "    .dataframe tbody tr th:only-of-type {\n",
       "        vertical-align: middle;\n",
       "    }\n",
       "\n",
       "    .dataframe tbody tr th {\n",
       "        vertical-align: top;\n",
       "    }\n",
       "\n",
       "    .dataframe thead th {\n",
       "        text-align: right;\n",
       "    }\n",
       "</style>\n",
       "<table border=\"1\" class=\"dataframe\">\n",
       "  <thead>\n",
       "    <tr style=\"text-align: right;\">\n",
       "      <th></th>\n",
       "      <th>Employee Annual Salary</th>\n",
       "    </tr>\n",
       "    <tr>\n",
       "      <th>Position Title</th>\n",
       "      <th></th>\n",
       "    </tr>\n",
       "  </thead>\n",
       "  <tbody>\n",
       "    <tr>\n",
       "      <th>1ST DEPUTY INSPECTOR GENERAL</th>\n",
       "      <td>137052.00</td>\n",
       "    </tr>\n",
       "    <tr>\n",
       "      <th>A/MGR COM SVC-ELECTIONS</th>\n",
       "      <td>100812.00</td>\n",
       "    </tr>\n",
       "    <tr>\n",
       "      <th>A/MGR OF MIS-ELECTIONS</th>\n",
       "      <td>94932.00</td>\n",
       "    </tr>\n",
       "    <tr>\n",
       "      <th>A/MGR WAREHOUSE-ELECTIONS</th>\n",
       "      <td>73152.00</td>\n",
       "    </tr>\n",
       "    <tr>\n",
       "      <th>A/SUPRV REDISTRICTING</th>\n",
       "      <td>57642.00</td>\n",
       "    </tr>\n",
       "    <tr>\n",
       "      <th>...</th>\n",
       "      <td>...</td>\n",
       "    </tr>\n",
       "    <tr>\n",
       "      <th>WINDOW WASHER</th>\n",
       "      <td>47320.00</td>\n",
       "    </tr>\n",
       "    <tr>\n",
       "      <th>YOUTH SERVICES COORD</th>\n",
       "      <td>74686.29</td>\n",
       "    </tr>\n",
       "    <tr>\n",
       "      <th>ZONING ADMINISTRATOR</th>\n",
       "      <td>139800.00</td>\n",
       "    </tr>\n",
       "    <tr>\n",
       "      <th>ZONING INVESTIGATOR</th>\n",
       "      <td>99552.00</td>\n",
       "    </tr>\n",
       "    <tr>\n",
       "      <th>ZONING PLAN EXAMINER</th>\n",
       "      <td>60069.00</td>\n",
       "    </tr>\n",
       "  </tbody>\n",
       "</table>\n",
       "<p>1093 rows × 1 columns</p>\n",
       "</div>"
      ],
      "text/plain": [
       "                              Employee Annual Salary\n",
       "Position Title                                      \n",
       "1ST DEPUTY INSPECTOR GENERAL               137052.00\n",
       "A/MGR COM SVC-ELECTIONS                    100812.00\n",
       "A/MGR OF MIS-ELECTIONS                      94932.00\n",
       "A/MGR WAREHOUSE-ELECTIONS                   73152.00\n",
       "A/SUPRV REDISTRICTING                       57642.00\n",
       "...                                              ...\n",
       "WINDOW WASHER                               47320.00\n",
       "YOUTH SERVICES COORD                        74686.29\n",
       "ZONING ADMINISTRATOR                       139800.00\n",
       "ZONING INVESTIGATOR                         99552.00\n",
       "ZONING PLAN EXAMINER                        60069.00\n",
       "\n",
       "[1093 rows x 1 columns]"
      ]
     },
     "execution_count": 24,
     "metadata": {},
     "output_type": "execute_result"
    }
   ],
   "source": [
    "# take the average salary by position title\n",
    "round(chicago.groupby(\"Position Title\").mean(\"Employee Annual Salary\"), 2)"
   ]
  },
  {
   "cell_type": "code",
   "execution_count": 28,
   "id": "a5da766a",
   "metadata": {},
   "outputs": [
    {
     "data": {
      "text/plain": [
       "8184     300000.0\n",
       "7954     216210.0\n",
       "25532    202728.0\n",
       "Name: Employee Annual Salary, dtype: float64"
      ]
     },
     "execution_count": 28,
     "metadata": {},
     "output_type": "execute_result"
    }
   ],
   "source": [
    "# get the top 3 salaries \n",
    "chicago[\"Employee Annual Salary\"].nlargest(3)"
   ]
  },
  {
   "cell_type": "markdown",
   "id": "e826a8b2",
   "metadata": {},
   "source": [
    "### Filtering with string methods - contains( )\n",
    "- Produces a boolean series\n",
    "- Filter for a position tile that contains the word \"water\". It doesnt mattr where it occurs only that the title contains it  for consistency, use lower or upper to normalize the series when running a search that contains a word becasue A is not the same as a. \n",
    "- Every method must have and str prefix when method chaining"
   ]
  },
  {
   "cell_type": "code",
   "execution_count": 30,
   "id": "2248a039",
   "metadata": {},
   "outputs": [
    {
     "data": {
      "text/plain": [
       "0         True\n",
       "1        False\n",
       "2        False\n",
       "3        False\n",
       "4        False\n",
       "         ...  \n",
       "32057    False\n",
       "32058    False\n",
       "32059    False\n",
       "32060    False\n",
       "32061    False\n",
       "Name: Position Title, Length: 32062, dtype: bool"
      ]
     },
     "execution_count": 30,
     "metadata": {},
     "output_type": "execute_result"
    }
   ],
   "source": [
    "chicago['Position Title'].str.lower().str.contains(\"water\")"
   ]
  },
  {
   "cell_type": "code",
   "execution_count": 32,
   "id": "97f97227",
   "metadata": {},
   "outputs": [
    {
     "data": {
      "text/html": [
       "<div>\n",
       "<style scoped>\n",
       "    .dataframe tbody tr th:only-of-type {\n",
       "        vertical-align: middle;\n",
       "    }\n",
       "\n",
       "    .dataframe tbody tr th {\n",
       "        vertical-align: top;\n",
       "    }\n",
       "\n",
       "    .dataframe thead th {\n",
       "        text-align: right;\n",
       "    }\n",
       "</style>\n",
       "<table border=\"1\" class=\"dataframe\">\n",
       "  <thead>\n",
       "    <tr style=\"text-align: right;\">\n",
       "      <th></th>\n",
       "      <th>Name</th>\n",
       "      <th>Position Title</th>\n",
       "      <th>Department</th>\n",
       "      <th>Employee Annual Salary</th>\n",
       "    </tr>\n",
       "  </thead>\n",
       "  <tbody>\n",
       "    <tr>\n",
       "      <th>0</th>\n",
       "      <td>AARON,  ELVIA J</td>\n",
       "      <td>WATER RATE TAKER</td>\n",
       "      <td>WATER MANAGEMENT</td>\n",
       "      <td>90744.0</td>\n",
       "    </tr>\n",
       "    <tr>\n",
       "      <th>554</th>\n",
       "      <td>ALUISE,  VINCENT G</td>\n",
       "      <td>FOREMAN OF WATER PIPE CONSTRUCTION</td>\n",
       "      <td>WATER MANAGEMENT</td>\n",
       "      <td>102440.0</td>\n",
       "    </tr>\n",
       "    <tr>\n",
       "      <th>671</th>\n",
       "      <td>ANDER,  PERRY A</td>\n",
       "      <td>WATER CHEMIST II</td>\n",
       "      <td>WATER MANAGEMENT</td>\n",
       "      <td>82044.0</td>\n",
       "    </tr>\n",
       "    <tr>\n",
       "      <th>685</th>\n",
       "      <td>ANDERSON,  ANDREW J</td>\n",
       "      <td>DISTRICT SUPERINTENDENT OF WATER DISTRIBUTION</td>\n",
       "      <td>WATER MANAGEMENT</td>\n",
       "      <td>109272.0</td>\n",
       "    </tr>\n",
       "    <tr>\n",
       "      <th>702</th>\n",
       "      <td>ANDERSON,  DONALD</td>\n",
       "      <td>FOREMAN OF WATER PIPE CONSTRUCTION</td>\n",
       "      <td>WATER MANAGEMENT</td>\n",
       "      <td>102440.0</td>\n",
       "    </tr>\n",
       "  </tbody>\n",
       "</table>\n",
       "</div>"
      ],
      "text/plain": [
       "                    Name                                 Position Title  \\\n",
       "0        AARON,  ELVIA J                               WATER RATE TAKER   \n",
       "554   ALUISE,  VINCENT G             FOREMAN OF WATER PIPE CONSTRUCTION   \n",
       "671      ANDER,  PERRY A                               WATER CHEMIST II   \n",
       "685  ANDERSON,  ANDREW J  DISTRICT SUPERINTENDENT OF WATER DISTRIBUTION   \n",
       "702    ANDERSON,  DONALD             FOREMAN OF WATER PIPE CONSTRUCTION   \n",
       "\n",
       "           Department  Employee Annual Salary  \n",
       "0    WATER MANAGEMENT                 90744.0  \n",
       "554  WATER MANAGEMENT                102440.0  \n",
       "671  WATER MANAGEMENT                 82044.0  \n",
       "685  WATER MANAGEMENT                109272.0  \n",
       "702  WATER MANAGEMENT                102440.0  "
      ]
     },
     "execution_count": 32,
     "metadata": {},
     "output_type": "execute_result"
    }
   ],
   "source": [
    "# to see only the Position Title rows that contain the word \"water\" use a mask varibale then call it\n",
    "mask = chicago['Position Title'].str.lower().str.contains(\"water\")\n",
    "\n",
    "chicago[mask].head()"
   ]
  },
  {
   "cell_type": "markdown",
   "id": "9c514831",
   "metadata": {},
   "source": [
    "#### Starts with and ends with string method\n",
    "- Starts with looks at the begining of the string.\n",
    "- Ends with looks at the end of the string."
   ]
  },
  {
   "cell_type": "code",
   "execution_count": 33,
   "id": "131305d6",
   "metadata": {},
   "outputs": [
    {
     "data": {
      "text/html": [
       "<div>\n",
       "<style scoped>\n",
       "    .dataframe tbody tr th:only-of-type {\n",
       "        vertical-align: middle;\n",
       "    }\n",
       "\n",
       "    .dataframe tbody tr th {\n",
       "        vertical-align: top;\n",
       "    }\n",
       "\n",
       "    .dataframe thead th {\n",
       "        text-align: right;\n",
       "    }\n",
       "</style>\n",
       "<table border=\"1\" class=\"dataframe\">\n",
       "  <thead>\n",
       "    <tr style=\"text-align: right;\">\n",
       "      <th></th>\n",
       "      <th>Name</th>\n",
       "      <th>Position Title</th>\n",
       "      <th>Department</th>\n",
       "      <th>Employee Annual Salary</th>\n",
       "    </tr>\n",
       "  </thead>\n",
       "  <tbody>\n",
       "    <tr>\n",
       "      <th>0</th>\n",
       "      <td>AARON,  ELVIA J</td>\n",
       "      <td>WATER RATE TAKER</td>\n",
       "      <td>WATER MANAGEMENT</td>\n",
       "      <td>90744.0</td>\n",
       "    </tr>\n",
       "    <tr>\n",
       "      <th>671</th>\n",
       "      <td>ANDER,  PERRY A</td>\n",
       "      <td>WATER CHEMIST II</td>\n",
       "      <td>WATER MANAGEMENT</td>\n",
       "      <td>82044.0</td>\n",
       "    </tr>\n",
       "    <tr>\n",
       "      <th>1054</th>\n",
       "      <td>ASHLEY,  KARMA T</td>\n",
       "      <td>WATER CHEMIST II</td>\n",
       "      <td>WATER MANAGEMENT</td>\n",
       "      <td>82044.0</td>\n",
       "    </tr>\n",
       "    <tr>\n",
       "      <th>1079</th>\n",
       "      <td>ATKINS,  JOANNA M</td>\n",
       "      <td>WATER CHEMIST II</td>\n",
       "      <td>WATER MANAGEMENT</td>\n",
       "      <td>82044.0</td>\n",
       "    </tr>\n",
       "    <tr>\n",
       "      <th>1181</th>\n",
       "      <td>AZEEM,  MOHAMMED A</td>\n",
       "      <td>WATER CHEMIST II</td>\n",
       "      <td>WATER MANAGEMENT</td>\n",
       "      <td>53172.0</td>\n",
       "    </tr>\n",
       "  </tbody>\n",
       "</table>\n",
       "</div>"
      ],
      "text/plain": [
       "                    Name    Position Title        Department  \\\n",
       "0        AARON,  ELVIA J  WATER RATE TAKER  WATER MANAGEMENT   \n",
       "671      ANDER,  PERRY A  WATER CHEMIST II  WATER MANAGEMENT   \n",
       "1054    ASHLEY,  KARMA T  WATER CHEMIST II  WATER MANAGEMENT   \n",
       "1079   ATKINS,  JOANNA M  WATER CHEMIST II  WATER MANAGEMENT   \n",
       "1181  AZEEM,  MOHAMMED A  WATER CHEMIST II  WATER MANAGEMENT   \n",
       "\n",
       "      Employee Annual Salary  \n",
       "0                    90744.0  \n",
       "671                  82044.0  \n",
       "1054                 82044.0  \n",
       "1079                 82044.0  \n",
       "1181                 53172.0  "
      ]
     },
     "execution_count": 33,
     "metadata": {},
     "output_type": "execute_result"
    }
   ],
   "source": [
    "# Look for the word water in Position Title at the very begining.\n",
    "mask = chicago['Position Title'].str.lower().str.startswith(\"water\")\n",
    "\n",
    "chicago[mask].head()"
   ]
  },
  {
   "cell_type": "code",
   "execution_count": 36,
   "id": "d0d7b496",
   "metadata": {},
   "outputs": [
    {
     "data": {
      "text/html": [
       "<div>\n",
       "<style scoped>\n",
       "    .dataframe tbody tr th:only-of-type {\n",
       "        vertical-align: middle;\n",
       "    }\n",
       "\n",
       "    .dataframe tbody tr th {\n",
       "        vertical-align: top;\n",
       "    }\n",
       "\n",
       "    .dataframe thead th {\n",
       "        text-align: right;\n",
       "    }\n",
       "</style>\n",
       "<table border=\"1\" class=\"dataframe\">\n",
       "  <thead>\n",
       "    <tr style=\"text-align: right;\">\n",
       "      <th></th>\n",
       "      <th>Name</th>\n",
       "      <th>Position Title</th>\n",
       "      <th>Department</th>\n",
       "      <th>Employee Annual Salary</th>\n",
       "    </tr>\n",
       "  </thead>\n",
       "  <tbody>\n",
       "    <tr>\n",
       "      <th>184</th>\n",
       "      <td>AFROZ,  NAYYAR</td>\n",
       "      <td>PSYCHIATRIST</td>\n",
       "      <td>HEALTH</td>\n",
       "      <td>99840.0</td>\n",
       "    </tr>\n",
       "    <tr>\n",
       "      <th>308</th>\n",
       "      <td>ALARCON,  LUIS J</td>\n",
       "      <td>LOAN PROCESSING SPECIALIST</td>\n",
       "      <td>COMMUNITY DEVELOPMENT</td>\n",
       "      <td>81948.0</td>\n",
       "    </tr>\n",
       "    <tr>\n",
       "      <th>422</th>\n",
       "      <td>ALLAIN,  CAROLYN</td>\n",
       "      <td>SENIOR TELECOMMUNICATIONS SPECIALIST</td>\n",
       "      <td>DoIT</td>\n",
       "      <td>89880.0</td>\n",
       "    </tr>\n",
       "    <tr>\n",
       "      <th>472</th>\n",
       "      <td>ALLEN,  ROBERT</td>\n",
       "      <td>MACHINIST</td>\n",
       "      <td>WATER MANAGEMENT</td>\n",
       "      <td>94328.0</td>\n",
       "    </tr>\n",
       "    <tr>\n",
       "      <th>705</th>\n",
       "      <td>ANDERSON,  EDWARD M</td>\n",
       "      <td>SR PROCUREMENT SPECIALIST</td>\n",
       "      <td>PROCUREMENT</td>\n",
       "      <td>91476.0</td>\n",
       "    </tr>\n",
       "  </tbody>\n",
       "</table>\n",
       "</div>"
      ],
      "text/plain": [
       "                    Name                        Position Title  \\\n",
       "184       AFROZ,  NAYYAR                          PSYCHIATRIST   \n",
       "308     ALARCON,  LUIS J            LOAN PROCESSING SPECIALIST   \n",
       "422     ALLAIN,  CAROLYN  SENIOR TELECOMMUNICATIONS SPECIALIST   \n",
       "472       ALLEN,  ROBERT                             MACHINIST   \n",
       "705  ANDERSON,  EDWARD M             SR PROCUREMENT SPECIALIST   \n",
       "\n",
       "                Department  Employee Annual Salary  \n",
       "184                 HEALTH                 99840.0  \n",
       "308  COMMUNITY DEVELOPMENT                 81948.0  \n",
       "422                   DoIT                 89880.0  \n",
       "472       WATER MANAGEMENT                 94328.0  \n",
       "705            PROCUREMENT                 91476.0  "
      ]
     },
     "execution_count": 36,
     "metadata": {},
     "output_type": "execute_result"
    }
   ],
   "source": [
    "# ends with \"ist\"\n",
    "mask = chicago['Position Title'].str.lower().str.endswith(\"ist\")\n",
    "\n",
    "chicago[mask].head()"
   ]
  },
  {
   "cell_type": "markdown",
   "id": "aa3042e2",
   "metadata": {},
   "source": [
    "### strip( ), lstrip( ) & rstrip( )\n",
    "- all are used to remove whitespace in a variable.\n",
    "- whitespace can osscur on both sides, only hte right side or only the left side hence the variations above."
   ]
  },
  {
   "cell_type": "code",
   "execution_count": 39,
   "id": "38d60863",
   "metadata": {},
   "outputs": [
    {
     "data": {
      "text/plain": [
       "'    whitespace left   '"
      ]
     },
     "execution_count": 39,
     "metadata": {},
     "output_type": "execute_result"
    }
   ],
   "source": [
    "# example of lstrip( )\n",
    "\"    whitespace left   \""
   ]
  },
  {
   "cell_type": "code",
   "execution_count": 41,
   "id": "ad647ca5",
   "metadata": {},
   "outputs": [
    {
     "data": {
      "text/plain": [
       "'whitespace left   '"
      ]
     },
     "execution_count": 41,
     "metadata": {},
     "output_type": "execute_result"
    }
   ],
   "source": [
    "# strip the whitespace, notice the right side still has whitespace, the same can used with rstrip()\n",
    "\"    whitespace left   \".lstrip()"
   ]
  },
  {
   "cell_type": "code",
   "execution_count": 42,
   "id": "0e97452e",
   "metadata": {},
   "outputs": [
    {
     "data": {
      "text/plain": [
       "'whitespace is now gone'"
      ]
     },
     "execution_count": 42,
     "metadata": {},
     "output_type": "execute_result"
    }
   ],
   "source": [
    "# when there is whitespace on both side, use strip( )\n",
    "\"    whitespace is now gone    \".strip()"
   ]
  },
  {
   "cell_type": "code",
   "execution_count": 43,
   "id": "561d3eae",
   "metadata": {},
   "outputs": [
    {
     "data": {
      "text/html": [
       "<div>\n",
       "<style scoped>\n",
       "    .dataframe tbody tr th:only-of-type {\n",
       "        vertical-align: middle;\n",
       "    }\n",
       "\n",
       "    .dataframe tbody tr th {\n",
       "        vertical-align: top;\n",
       "    }\n",
       "\n",
       "    .dataframe thead th {\n",
       "        text-align: right;\n",
       "    }\n",
       "</style>\n",
       "<table border=\"1\" class=\"dataframe\">\n",
       "  <thead>\n",
       "    <tr style=\"text-align: right;\">\n",
       "      <th></th>\n",
       "      <th>Name</th>\n",
       "      <th>Position Title</th>\n",
       "      <th>Department</th>\n",
       "      <th>Employee Annual Salary</th>\n",
       "    </tr>\n",
       "  </thead>\n",
       "  <tbody>\n",
       "    <tr>\n",
       "      <th>0</th>\n",
       "      <td>AARON,  ELVIA J</td>\n",
       "      <td>WATER RATE TAKER</td>\n",
       "      <td>WATER MANAGEMENT</td>\n",
       "      <td>90744.0</td>\n",
       "    </tr>\n",
       "    <tr>\n",
       "      <th>1</th>\n",
       "      <td>AARON,  JEFFERY M</td>\n",
       "      <td>POLICE OFFICER</td>\n",
       "      <td>POLICE</td>\n",
       "      <td>84450.0</td>\n",
       "    </tr>\n",
       "    <tr>\n",
       "      <th>2</th>\n",
       "      <td>AARON,  KARINA</td>\n",
       "      <td>POLICE OFFICER</td>\n",
       "      <td>POLICE</td>\n",
       "      <td>84450.0</td>\n",
       "    </tr>\n",
       "  </tbody>\n",
       "</table>\n",
       "</div>"
      ],
      "text/plain": [
       "                Name    Position Title        Department  \\\n",
       "0    AARON,  ELVIA J  WATER RATE TAKER  WATER MANAGEMENT   \n",
       "1  AARON,  JEFFERY M    POLICE OFFICER            POLICE   \n",
       "2     AARON,  KARINA    POLICE OFFICER            POLICE   \n",
       "\n",
       "   Employee Annual Salary  \n",
       "0                 90744.0  \n",
       "1                 84450.0  \n",
       "2                 84450.0  "
      ]
     },
     "execution_count": 43,
     "metadata": {},
     "output_type": "execute_result"
    }
   ],
   "source": [
    "# strip whitespace from the Name column\n",
    "chicago[\"Name\"] = chicago[\"Name\"].str.strip()\n",
    "\n",
    "chicago.head(3)"
   ]
  },
  {
   "cell_type": "markdown",
   "id": "94c78e10",
   "metadata": {},
   "source": [
    "### Split strings by character with split( )\n",
    "- splits the varibale on a delimiter and returns a list."
   ]
  },
  {
   "cell_type": "code",
   "execution_count": 46,
   "id": "7cf12e80",
   "metadata": {},
   "outputs": [
    {
     "data": {
      "text/plain": [
       "['split', 'the', 'words', 'by', 'empty', 'space.']"
      ]
     },
     "execution_count": 46,
     "metadata": {},
     "output_type": "execute_result"
    }
   ],
   "source": [
    "# example\n",
    "\"split the words by empty space.\".split(\" \")"
   ]
  },
  {
   "cell_type": "code",
   "execution_count": 47,
   "id": "2dd87491",
   "metadata": {},
   "outputs": [
    {
     "data": {
      "text/plain": [
       "['this is a comma', ' split']"
      ]
     },
     "execution_count": 47,
     "metadata": {},
     "output_type": "execute_result"
    }
   ],
   "source": [
    "# split on a comma\n",
    "\"this is a comma, split\".split(\",\")"
   ]
  },
  {
   "cell_type": "code",
   "execution_count": 48,
   "id": "de725948",
   "metadata": {},
   "outputs": [
    {
     "data": {
      "text/plain": [
       "0            [AARON,   ELVIA J]\n",
       "1          [AARON,   JEFFERY M]\n",
       "2             [AARON,   KARINA]\n",
       "3        [AARON,   KIMBERLEI R]\n",
       "4        [ABAD JR,   VICENTE M]\n",
       "                  ...          \n",
       "32057    [ZYGADLO,   MICHAEL J]\n",
       "32058     [ZYGOWICZ,   PETER J]\n",
       "32059      [ZYMANTAS,   MARK E]\n",
       "32060    [ZYRKOWSKI,   CARLO E]\n",
       "32061    [ZYSKOWSKI,   DARIUSZ]\n",
       "Name: Name, Length: 32062, dtype: object"
      ]
     },
     "execution_count": 48,
     "metadata": {},
     "output_type": "execute_result"
    }
   ],
   "source": [
    "# split the Name var on the comma to identify the popular last names. The list will show a comma but only as an indicator os sep values.\n",
    "chicago[\"Name\"].str.split(\",\")"
   ]
  },
  {
   "cell_type": "code",
   "execution_count": 51,
   "id": "79ff78bd",
   "metadata": {},
   "outputs": [
    {
     "data": {
      "text/plain": [
       "WILLIAMS                  293\n",
       "JOHNSON                   244\n",
       "SMITH                     241\n",
       "BROWN                     185\n",
       "JONES                     183\n",
       "                         ... \n",
       "CHANEY SR                   1\n",
       "ONAYO                       1\n",
       "TOMASZEWSKI PELLEGRINI      1\n",
       "GRAZZINI                    1\n",
       "STOVE                       1\n",
       "Name: Name, Length: 13830, dtype: int64"
      ]
     },
     "execution_count": 51,
     "metadata": {},
     "output_type": "execute_result"
    }
   ],
   "source": [
    "# use get() with the indexe position to get the last name, the last name is the 1st position as 0\n",
    "chicago[\"Name\"].str.split(\",\").str.get(0).value_counts()"
   ]
  },
  {
   "cell_type": "code",
   "execution_count": null,
   "id": "09c26beb",
   "metadata": {},
   "outputs": [],
   "source": []
  },
  {
   "cell_type": "code",
   "execution_count": null,
   "id": "fb02e288",
   "metadata": {},
   "outputs": [],
   "source": []
  },
  {
   "cell_type": "code",
   "execution_count": null,
   "id": "ceacd39e",
   "metadata": {},
   "outputs": [],
   "source": []
  },
  {
   "cell_type": "code",
   "execution_count": null,
   "id": "03ca53e5",
   "metadata": {},
   "outputs": [],
   "source": []
  },
  {
   "cell_type": "code",
   "execution_count": null,
   "id": "60300fed",
   "metadata": {},
   "outputs": [],
   "source": []
  },
  {
   "cell_type": "code",
   "execution_count": null,
   "id": "11779b2c",
   "metadata": {},
   "outputs": [],
   "source": []
  }
 ],
 "metadata": {
  "kernelspec": {
   "display_name": "Python 3",
   "language": "python",
   "name": "python3"
  },
  "language_info": {
   "codemirror_mode": {
    "name": "ipython",
    "version": 3
   },
   "file_extension": ".py",
   "mimetype": "text/x-python",
   "name": "python",
   "nbconvert_exporter": "python",
   "pygments_lexer": "ipython3",
   "version": "3.8.8"
  }
 },
 "nbformat": 4,
 "nbformat_minor": 5
}
