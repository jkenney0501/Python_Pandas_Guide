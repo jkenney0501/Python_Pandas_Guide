{
 "cells": [
  {
   "cell_type": "markdown",
   "id": "8884574b",
   "metadata": {},
   "source": [
    "### Working with Series"
   ]
  },
  {
   "cell_type": "code",
   "execution_count": 1,
   "id": "4376d7fa",
   "metadata": {},
   "outputs": [],
   "source": [
    "import pandas as pd"
   ]
  },
  {
   "cell_type": "markdown",
   "id": "e3c0c58b",
   "metadata": {},
   "source": [
    "### Series\n",
    "- Represents a one dimensional labeled array or single column of data.\n",
    "- Data types should be consistent since it creates a column essentially.\n",
    "- In order to create a Series, use a constructor method: Series with dot notation.\n",
    "\n",
    "#### Creating a Series object from a list."
   ]
  },
  {
   "cell_type": "code",
   "execution_count": 2,
   "id": "a98b19a8",
   "metadata": {},
   "outputs": [
    {
     "data": {
      "text/plain": [
       "0     chocolate\n",
       "1       vanilla\n",
       "2    strawberry\n",
       "3    rum raisin\n",
       "dtype: object"
      ]
     },
     "execution_count": 2,
     "metadata": {},
     "output_type": "execute_result"
    }
   ],
   "source": [
    "# Series witjh strings\n",
    "ice_cream = ['chocolate', 'vanilla', 'strawberry', 'rum raisin']\n",
    "\n",
    "pd.Series(ice_cream)"
   ]
  },
  {
   "cell_type": "code",
   "execution_count": 3,
   "id": "d3f13c86",
   "metadata": {},
   "outputs": [
    {
     "data": {
      "text/plain": [
       "0     1\n",
       "1     5\n",
       "2    19\n",
       "3    51\n",
       "4     7\n",
       "5    43\n",
       "6    12\n",
       "dtype: int64"
      ]
     },
     "execution_count": 3,
     "metadata": {},
     "output_type": "execute_result"
    }
   ],
   "source": [
    "# create another series using int's with the constructor method (you can also use booleans - True/False)\n",
    "lottery = [1, 5, 19, 51, 7, 43, 12]\n",
    "\n",
    "pd.Series(lottery)"
   ]
  },
  {
   "cell_type": "markdown",
   "id": "c20a27ac",
   "metadata": {},
   "source": [
    "#### Creating a Series object from a dictionary.\n",
    "- Pandas will take the keys and auto create them as indexes."
   ]
  },
  {
   "cell_type": "code",
   "execution_count": 5,
   "id": "236de89e",
   "metadata": {},
   "outputs": [
    {
     "data": {
      "text/plain": [
       "Ardvark    Animal\n",
       "Banana      Fruit\n",
       "Cyan        Color\n",
       "dtype: object"
      ]
     },
     "execution_count": 5,
     "metadata": {},
     "output_type": "execute_result"
    }
   ],
   "source": [
    "webster = {'Ardvark': 'Animal',\n",
    "           'Banana': 'Fruit',\n",
    "           'Cyan': 'Color'}\n",
    "\n",
    "pd.Series(webster)"
   ]
  },
  {
   "cell_type": "markdown",
   "id": "0a18a051",
   "metadata": {},
   "source": [
    "#### Attributes on a Series object\n",
    "- Objects in Python have attributes and methods.\n",
    "- A series is an object and therefore has many methods: attributes do not modify the object, they provide info whereas methods do apply a calculation or do task such as manipulate a string."
   ]
  },
  {
   "cell_type": "code",
   "execution_count": 6,
   "id": "d034cf52",
   "metadata": {},
   "outputs": [
    {
     "data": {
      "text/plain": [
       "0        Tall\n",
       "1       Smart\n",
       "2    Charming\n",
       "3      Humble\n",
       "4      Social\n",
       "dtype: object"
      ]
     },
     "execution_count": 6,
     "metadata": {},
     "output_type": "execute_result"
    }
   ],
   "source": [
    "# create a series, store in a varibale to reuse\n",
    "s_char = ['Tall', 'Smart', 'Charming', 'Humble', 'Social']\n",
    "\n",
    "# convert to series\n",
    "s = pd.Series(s_char)\n",
    "s"
   ]
  },
  {
   "cell_type": "markdown",
   "id": "27ec8020",
   "metadata": {},
   "source": [
    "#### Access the attributes - press tab after the dot to see the methods and attributes\n",
    "- Attributes do NOT require ( )\n",
    "- Methods do require ( )"
   ]
  },
  {
   "cell_type": "code",
   "execution_count": 7,
   "id": "a82582c6",
   "metadata": {},
   "outputs": [
    {
     "data": {
      "text/plain": [
       "array(['Tall', 'Smart', 'Charming', 'Humble', 'Social'], dtype=object)"
      ]
     },
     "execution_count": 7,
     "metadata": {},
     "output_type": "execute_result"
    }
   ],
   "source": [
    "# Values - returns an array\n",
    "s.values"
   ]
  },
  {
   "cell_type": "code",
   "execution_count": 8,
   "id": "f2ce969c",
   "metadata": {},
   "outputs": [
    {
     "data": {
      "text/plain": [
       "RangeIndex(start=0, stop=5, step=1)"
      ]
     },
     "execution_count": 8,
     "metadata": {},
     "output_type": "execute_result"
    }
   ],
   "source": [
    "# Index - retruns the range and the step, default is 1 which is the increment\n",
    "s.index"
   ]
  },
  {
   "cell_type": "code",
   "execution_count": 11,
   "id": "c8976d91",
   "metadata": {},
   "outputs": [
    {
     "data": {
      "text/plain": [
       "dtype('O')"
      ]
     },
     "execution_count": 11,
     "metadata": {},
     "output_type": "execute_result"
    }
   ],
   "source": [
    "# returns O for object\n",
    "s.dtype"
   ]
  },
  {
   "cell_type": "markdown",
   "id": "5f78bd43",
   "metadata": {},
   "source": [
    "#### Methods on a Series object"
   ]
  },
  {
   "cell_type": "code",
   "execution_count": null,
   "id": "f87aa676",
   "metadata": {},
   "outputs": [],
   "source": []
  },
  {
   "cell_type": "code",
   "execution_count": null,
   "id": "2eca6b5c",
   "metadata": {},
   "outputs": [],
   "source": []
  },
  {
   "cell_type": "code",
   "execution_count": null,
   "id": "c00c8299",
   "metadata": {},
   "outputs": [],
   "source": []
  },
  {
   "cell_type": "code",
   "execution_count": null,
   "id": "dbe2132b",
   "metadata": {},
   "outputs": [],
   "source": []
  },
  {
   "cell_type": "markdown",
   "id": "36bb590a",
   "metadata": {},
   "source": [
    "#### Parameters and arguments"
   ]
  },
  {
   "cell_type": "code",
   "execution_count": null,
   "id": "0226106f",
   "metadata": {},
   "outputs": [],
   "source": []
  },
  {
   "cell_type": "markdown",
   "id": "fddfc783",
   "metadata": {},
   "source": [
    "#### Create a Series from a dataset with pd.read_csv( ) function"
   ]
  },
  {
   "cell_type": "code",
   "execution_count": null,
   "id": "22986725",
   "metadata": {},
   "outputs": [],
   "source": []
  },
  {
   "cell_type": "code",
   "execution_count": null,
   "id": "9d5f77a5",
   "metadata": {},
   "outputs": [],
   "source": []
  },
  {
   "cell_type": "markdown",
   "id": "3153dd65",
   "metadata": {},
   "source": [
    "#### Head and Tail methods"
   ]
  },
  {
   "cell_type": "code",
   "execution_count": null,
   "id": "d07d31ef",
   "metadata": {},
   "outputs": [],
   "source": [
    "# preview the 1st 5 rows - chnage the row num by entering in the ( )"
   ]
  },
  {
   "cell_type": "code",
   "execution_count": null,
   "id": "4f304ee3",
   "metadata": {},
   "outputs": [],
   "source": [
    "# preview the last 5 rows"
   ]
  },
  {
   "cell_type": "markdown",
   "id": "eebc6b20",
   "metadata": {},
   "source": [
    "#### Passing objects into built in functions"
   ]
  },
  {
   "cell_type": "code",
   "execution_count": null,
   "id": "d7f144d9",
   "metadata": {},
   "outputs": [],
   "source": []
  },
  {
   "cell_type": "markdown",
   "id": "01902732",
   "metadata": {},
   "source": [
    "#### Sort_values( )\n",
    "- Default is ascending order\n",
    "- To change default, use ascending = False"
   ]
  },
  {
   "cell_type": "code",
   "execution_count": null,
   "id": "88e3a95b",
   "metadata": {},
   "outputs": [],
   "source": []
  },
  {
   "cell_type": "markdown",
   "id": "03df4d9c",
   "metadata": {},
   "source": []
  },
  {
   "cell_type": "markdown",
   "id": "f0a47a87",
   "metadata": {},
   "source": [
    "#### Sort_index"
   ]
  },
  {
   "cell_type": "code",
   "execution_count": null,
   "id": "b810e647",
   "metadata": {},
   "outputs": [],
   "source": []
  },
  {
   "cell_type": "markdown",
   "id": "f546a283",
   "metadata": {},
   "source": [
    "#### Inplace parameter\n",
    "- Makes chnaes in place rather than recreating into a new variable."
   ]
  },
  {
   "cell_type": "code",
   "execution_count": null,
   "id": "949ec2df",
   "metadata": {},
   "outputs": [],
   "source": []
  },
  {
   "cell_type": "markdown",
   "id": "f0500046",
   "metadata": {},
   "source": [
    "#### Extract by index position or label"
   ]
  },
  {
   "cell_type": "code",
   "execution_count": null,
   "id": "b70a0a73",
   "metadata": {},
   "outputs": [],
   "source": []
  },
  {
   "cell_type": "code",
   "execution_count": null,
   "id": "f58437f4",
   "metadata": {},
   "outputs": [],
   "source": []
  },
  {
   "cell_type": "markdown",
   "id": "e0e982eb",
   "metadata": {},
   "source": [
    "#### Math methods"
   ]
  },
  {
   "cell_type": "code",
   "execution_count": null,
   "id": "9a67d36b",
   "metadata": {},
   "outputs": [],
   "source": []
  },
  {
   "cell_type": "code",
   "execution_count": null,
   "id": "d5de2277",
   "metadata": {},
   "outputs": [],
   "source": []
  },
  {
   "cell_type": "markdown",
   "id": "064e49b3",
   "metadata": {},
   "source": [
    "#### Value_counts method"
   ]
  },
  {
   "cell_type": "code",
   "execution_count": null,
   "id": "94a2df24",
   "metadata": {},
   "outputs": [],
   "source": []
  },
  {
   "cell_type": "code",
   "execution_count": null,
   "id": "f92b16fd",
   "metadata": {},
   "outputs": [],
   "source": []
  },
  {
   "cell_type": "markdown",
   "id": "f60608ec",
   "metadata": {},
   "source": [
    "#### Map method"
   ]
  },
  {
   "cell_type": "code",
   "execution_count": null,
   "id": "784db483",
   "metadata": {},
   "outputs": [],
   "source": []
  },
  {
   "cell_type": "code",
   "execution_count": null,
   "id": "21ed4542",
   "metadata": {},
   "outputs": [],
   "source": []
  },
  {
   "cell_type": "code",
   "execution_count": null,
   "id": "0ac8429c",
   "metadata": {},
   "outputs": [],
   "source": []
  },
  {
   "cell_type": "code",
   "execution_count": null,
   "id": "17fa38ba",
   "metadata": {},
   "outputs": [],
   "source": []
  },
  {
   "cell_type": "code",
   "execution_count": null,
   "id": "3cb1d96a",
   "metadata": {},
   "outputs": [],
   "source": []
  }
 ],
 "metadata": {
  "kernelspec": {
   "display_name": "Python 3",
   "language": "python",
   "name": "python3"
  },
  "language_info": {
   "codemirror_mode": {
    "name": "ipython",
    "version": 3
   },
   "file_extension": ".py",
   "mimetype": "text/x-python",
   "name": "python",
   "nbconvert_exporter": "python",
   "pygments_lexer": "ipython3",
   "version": "3.8.8"
  }
 },
 "nbformat": 4,
 "nbformat_minor": 5
}
