{
 "cells": [
  {
   "cell_type": "markdown",
   "id": "8884574b",
   "metadata": {},
   "source": [
    "### Working with Series"
   ]
  },
  {
   "cell_type": "code",
   "execution_count": 1,
   "id": "4376d7fa",
   "metadata": {},
   "outputs": [],
   "source": [
    "import pandas as pd"
   ]
  },
  {
   "cell_type": "markdown",
   "id": "e3c0c58b",
   "metadata": {},
   "source": [
    "### Series\n",
    "- Represents a one dimensional labeled array or single column of data.\n",
    "- Data types should be consistent since it creates a column essentially.\n",
    "- In order to create a Series, use a constructor method: Series with dot notation.\n",
    "\n",
    "#### Creating a Series object from a list."
   ]
  },
  {
   "cell_type": "code",
   "execution_count": 2,
   "id": "a98b19a8",
   "metadata": {},
   "outputs": [
    {
     "data": {
      "text/plain": [
       "0     chocolate\n",
       "1       vanilla\n",
       "2    strawberry\n",
       "3    rum raisin\n",
       "dtype: object"
      ]
     },
     "execution_count": 2,
     "metadata": {},
     "output_type": "execute_result"
    }
   ],
   "source": [
    "# Series with strings\n",
    "ice_cream = ['chocolate', 'vanilla', 'strawberry', 'rum raisin']\n",
    "\n",
    "pd.Series(ice_cream)"
   ]
  },
  {
   "cell_type": "code",
   "execution_count": 3,
   "id": "d3f13c86",
   "metadata": {},
   "outputs": [
    {
     "data": {
      "text/plain": [
       "0     1\n",
       "1     5\n",
       "2    19\n",
       "3    51\n",
       "4     7\n",
       "5    43\n",
       "6    12\n",
       "dtype: int64"
      ]
     },
     "execution_count": 3,
     "metadata": {},
     "output_type": "execute_result"
    }
   ],
   "source": [
    "# create another series using int's with the constructor method (you can also use booleans - True/False)\n",
    "lottery = [1, 5, 19, 51, 7, 43, 12]\n",
    "\n",
    "pd.Series(lottery)"
   ]
  },
  {
   "cell_type": "markdown",
   "id": "c20a27ac",
   "metadata": {},
   "source": [
    "#### Creating a Series object from a dictionary.\n",
    "- Pandas will take the keys and auto create them as indexes."
   ]
  },
  {
   "cell_type": "code",
   "execution_count": 5,
   "id": "236de89e",
   "metadata": {},
   "outputs": [
    {
     "data": {
      "text/plain": [
       "Ardvark    Animal\n",
       "Banana      Fruit\n",
       "Cyan        Color\n",
       "dtype: object"
      ]
     },
     "execution_count": 5,
     "metadata": {},
     "output_type": "execute_result"
    }
   ],
   "source": [
    "webster = {'Ardvark': 'Animal',\n",
    "           'Banana': 'Fruit',\n",
    "           'Cyan': 'Color'}\n",
    "\n",
    "pd.Series(webster)"
   ]
  },
  {
   "cell_type": "markdown",
   "id": "0a18a051",
   "metadata": {},
   "source": [
    "#### Attributes on a Series object\n",
    "- Objects in Python have attributes and methods.\n",
    "- A series is an object and therefore has many methods: attributes do not modify the object, they provide info whereas methods do apply a calculation or do task such as manipulate a string."
   ]
  },
  {
   "cell_type": "code",
   "execution_count": 6,
   "id": "d034cf52",
   "metadata": {},
   "outputs": [
    {
     "data": {
      "text/plain": [
       "0        Tall\n",
       "1       Smart\n",
       "2    Charming\n",
       "3      Humble\n",
       "4      Social\n",
       "dtype: object"
      ]
     },
     "execution_count": 6,
     "metadata": {},
     "output_type": "execute_result"
    }
   ],
   "source": [
    "# create a series, store in a varibale to reuse\n",
    "s_char = ['Tall', 'Smart', 'Charming', 'Humble', 'Social']\n",
    "\n",
    "# convert to series\n",
    "s = pd.Series(s_char)\n",
    "s"
   ]
  },
  {
   "cell_type": "markdown",
   "id": "2bffb139",
   "metadata": {},
   "source": [
    "#### Access the attributes - press tab after the dot to see the methods and attributes\n",
    "- Attributes do NOT require ( )\n",
    "- Methods do require ( )\n",
    "- .columns: shows column names\n",
    "- .shape: show rows nd col counts"
   ]
  },
  {
   "cell_type": "code",
   "execution_count": 7,
   "id": "a82582c6",
   "metadata": {},
   "outputs": [
    {
     "data": {
      "text/plain": [
       "array(['Tall', 'Smart', 'Charming', 'Humble', 'Social'], dtype=object)"
      ]
     },
     "execution_count": 7,
     "metadata": {},
     "output_type": "execute_result"
    }
   ],
   "source": [
    "# Values - returns an array\n",
    "s.values"
   ]
  },
  {
   "cell_type": "code",
   "execution_count": 8,
   "id": "7e4b65bb",
   "metadata": {},
   "outputs": [
    {
     "data": {
      "text/plain": [
       "RangeIndex(start=0, stop=5, step=1)"
      ]
     },
     "execution_count": 8,
     "metadata": {},
     "output_type": "execute_result"
    }
   ],
   "source": [
    "# Index - retruns the range and the step, default is 1 which is the increment\n",
    "s.index"
   ]
  },
  {
   "cell_type": "code",
   "execution_count": 11,
   "id": "c1367ecd",
   "metadata": {},
   "outputs": [
    {
     "data": {
      "text/plain": [
       "dtype('O')"
      ]
     },
     "execution_count": 11,
     "metadata": {},
     "output_type": "execute_result"
    }
   ],
   "source": [
    "# returns O for object\n",
    "s.dtype"
   ]
  },
  {
   "cell_type": "markdown",
   "id": "5f78bd43",
   "metadata": {},
   "source": [
    "#### Methods on a Series object\n",
    "- Pressing tab after the dot will reveal a list of methods and attributes."
   ]
  },
  {
   "cell_type": "code",
   "execution_count": 12,
   "id": "f87aa676",
   "metadata": {},
   "outputs": [
    {
     "data": {
      "text/plain": [
       "0    2.99\n",
       "1    4.45\n",
       "2    3.36\n",
       "dtype: float64"
      ]
     },
     "execution_count": 12,
     "metadata": {},
     "output_type": "execute_result"
    }
   ],
   "source": [
    "# create new series\n",
    "prices = [2.99, 4.45, 3.36]\n",
    "\n",
    "p = pd.Series(prices)\n",
    "\n",
    "p"
   ]
  },
  {
   "cell_type": "code",
   "execution_count": 13,
   "id": "f23ad30e",
   "metadata": {},
   "outputs": [
    {
     "data": {
      "text/plain": [
       "10.8"
      ]
     },
     "execution_count": 13,
     "metadata": {},
     "output_type": "execute_result"
    }
   ],
   "source": [
    "# call sum method on p series - adds all values of the prices\n",
    "p.sum()"
   ]
  },
  {
   "cell_type": "code",
   "execution_count": 14,
   "id": "70ca6ea0",
   "metadata": {},
   "outputs": [
    {
     "data": {
      "text/plain": [
       "44.706480000000006"
      ]
     },
     "execution_count": 14,
     "metadata": {},
     "output_type": "execute_result"
    }
   ],
   "source": [
    "# call product the method on p series - multiplies all values against one another\n",
    "p.product()"
   ]
  },
  {
   "cell_type": "code",
   "execution_count": 15,
   "id": "53fcabf7",
   "metadata": {},
   "outputs": [
    {
     "data": {
      "text/plain": [
       "3.6"
      ]
     },
     "execution_count": 15,
     "metadata": {},
     "output_type": "execute_result"
    }
   ],
   "source": [
    "# call the mean method for an average over the series which is the sum divided by the length\n",
    "p.mean()"
   ]
  },
  {
   "cell_type": "code",
   "execution_count": 16,
   "id": "b3983a1f",
   "metadata": {},
   "outputs": [
    {
     "data": {
      "text/plain": [
       "3.36"
      ]
     },
     "execution_count": 16,
     "metadata": {},
     "output_type": "execute_result"
    }
   ],
   "source": [
    "# call the median\n",
    "p.median()"
   ]
  },
  {
   "cell_type": "code",
   "execution_count": 17,
   "id": "55c9de52",
   "metadata": {},
   "outputs": [
    {
     "data": {
      "text/plain": [
       "0.759012516365837"
      ]
     },
     "execution_count": 17,
     "metadata": {},
     "output_type": "execute_result"
    }
   ],
   "source": [
    "# standard deviation\n",
    "p.std()"
   ]
  },
  {
   "cell_type": "markdown",
   "id": "36bb590a",
   "metadata": {},
   "source": [
    "#### Parameters and arguments\n",
    "- for methods\n",
    "- The parameter is the name of the argument and the argument is the choice we choose. Example: .sort_values(by= \"colname\", ascending=False)\n",
    "- Indexes don't have to be unique."
   ]
  },
  {
   "cell_type": "code",
   "execution_count": 19,
   "id": "0226106f",
   "metadata": {},
   "outputs": [
    {
     "data": {
      "text/plain": [
       "Monday           apple\n",
       "Tuesday         orange\n",
       "Wednesday        grape\n",
       "Thursday          plum\n",
       "Friday       blueberry\n",
       "dtype: object"
      ]
     },
     "execution_count": 19,
     "metadata": {},
     "output_type": "execute_result"
    }
   ],
   "source": [
    "# create 2 lists, use weekdays as the index by adding it in the index= position for an argument\n",
    "fruits = ['apple', 'orange', 'grape','plum', 'blueberry' ]\n",
    "\n",
    "weekdays = ['Monday', 'Tuesday', 'Wednesday', 'Thursday', 'Friday']\n",
    "\n",
    "pd.Series(fruits, weekdays)\n",
    "\n",
    "# alternatively youcan write out the parameter, writing the explicit arg allows you skip the sequence \n",
    "\n",
    "pd.Series(data=fruits, index=weekdays)"
   ]
  },
  {
   "cell_type": "markdown",
   "id": "68a920ac",
   "metadata": {},
   "source": [
    "#### Create a Series from a dataset with pd.read_csv( ) function"
   ]
  },
  {
   "cell_type": "code",
   "execution_count": 36,
   "id": "22986725",
   "metadata": {},
   "outputs": [
    {
     "data": {
      "text/html": [
       "<div>\n",
       "<style scoped>\n",
       "    .dataframe tbody tr th:only-of-type {\n",
       "        vertical-align: middle;\n",
       "    }\n",
       "\n",
       "    .dataframe tbody tr th {\n",
       "        vertical-align: top;\n",
       "    }\n",
       "\n",
       "    .dataframe thead th {\n",
       "        text-align: right;\n",
       "    }\n",
       "</style>\n",
       "<table border=\"1\" class=\"dataframe\">\n",
       "  <thead>\n",
       "    <tr style=\"text-align: right;\">\n",
       "      <th></th>\n",
       "      <th>Pokemon</th>\n",
       "      <th>Type</th>\n",
       "    </tr>\n",
       "  </thead>\n",
       "  <tbody>\n",
       "    <tr>\n",
       "      <th>0</th>\n",
       "      <td>Bulbasaur</td>\n",
       "      <td>Grass</td>\n",
       "    </tr>\n",
       "    <tr>\n",
       "      <th>1</th>\n",
       "      <td>Ivysaur</td>\n",
       "      <td>Grass</td>\n",
       "    </tr>\n",
       "    <tr>\n",
       "      <th>2</th>\n",
       "      <td>Venusaur</td>\n",
       "      <td>Grass</td>\n",
       "    </tr>\n",
       "    <tr>\n",
       "      <th>3</th>\n",
       "      <td>Charmander</td>\n",
       "      <td>Fire</td>\n",
       "    </tr>\n",
       "    <tr>\n",
       "      <th>4</th>\n",
       "      <td>Charmeleon</td>\n",
       "      <td>Fire</td>\n",
       "    </tr>\n",
       "  </tbody>\n",
       "</table>\n",
       "</div>"
      ],
      "text/plain": [
       "      Pokemon   Type\n",
       "0   Bulbasaur  Grass\n",
       "1     Ivysaur  Grass\n",
       "2    Venusaur  Grass\n",
       "3  Charmander   Fire\n",
       "4  Charmeleon   Fire"
      ]
     },
     "execution_count": 36,
     "metadata": {},
     "output_type": "execute_result"
    }
   ],
   "source": [
    "# import the data\n",
    "p = pd.read_csv('../datasets/pokemon.csv')\n",
    "\n",
    "p.head()"
   ]
  },
  {
   "cell_type": "code",
   "execution_count": 39,
   "id": "98315308",
   "metadata": {},
   "outputs": [
    {
     "data": {
      "text/plain": [
       "0     Bulbasaur\n",
       "1       Ivysaur\n",
       "2      Venusaur\n",
       "3    Charmander\n",
       "4    Charmeleon\n",
       "Name: Pokemon, dtype: object"
      ]
     },
     "execution_count": 39,
     "metadata": {},
     "output_type": "execute_result"
    }
   ],
   "source": [
    "# pull one col to create a series by using the parametr usecols and the argument for the col\n",
    "# You have to use the parameter squeeze=True to make it a series\n",
    "p = pd.read_csv('../datasets/pokemon.csv', usecols=['Pokemon'], squeeze=True)\n",
    "\n",
    "p.head()"
   ]
  },
  {
   "cell_type": "code",
   "execution_count": 44,
   "id": "89cee31f",
   "metadata": {},
   "outputs": [
    {
     "data": {
      "text/plain": [
       "(721,)"
      ]
     },
     "execution_count": 44,
     "metadata": {},
     "output_type": "execute_result"
    }
   ],
   "source": [
    "# get the counts - 721 rows\n",
    "p.shape"
   ]
  },
  {
   "cell_type": "markdown",
   "id": "825e9765",
   "metadata": {},
   "source": [
    "#### Head and Tail methods\n",
    "- head( ) - returns the 1st 5\n",
    "- tail returns the last 5"
   ]
  },
  {
   "cell_type": "code",
   "execution_count": 53,
   "id": "223555bc",
   "metadata": {},
   "outputs": [
    {
     "data": {
      "text/plain": [
       "0    50.12\n",
       "1    54.10\n",
       "2    54.65\n",
       "3    52.38\n",
       "4    52.95\n",
       "Name: Stock Price, dtype: float64"
      ]
     },
     "execution_count": 53,
     "metadata": {},
     "output_type": "execute_result"
    }
   ],
   "source": [
    "stock = pd.read_csv('../datasets/google_stock_price.csv',usecols=['Stock Price'], squeeze=True)\n",
    "\n",
    "# preview the 1st 5 rows - chnage the row num by entering in the ( )\n",
    "stock.head()"
   ]
  },
  {
   "cell_type": "code",
   "execution_count": 54,
   "id": "74898a1c",
   "metadata": {},
   "outputs": [
    {
     "data": {
      "text/plain": [
       "3007    772.88\n",
       "3008    771.07\n",
       "3009    773.18\n",
       "3010    771.61\n",
       "3011    782.22\n",
       "Name: Stock Price, dtype: float64"
      ]
     },
     "execution_count": 54,
     "metadata": {},
     "output_type": "execute_result"
    }
   ],
   "source": [
    "# preview the last 5 rows\n",
    "stock.tail()"
   ]
  },
  {
   "cell_type": "code",
   "execution_count": 55,
   "id": "83d3160a",
   "metadata": {},
   "outputs": [
    {
     "data": {
      "text/plain": [
       "334.31009296148744"
      ]
     },
     "execution_count": 55,
     "metadata": {},
     "output_type": "execute_result"
    }
   ],
   "source": [
    "# get the average\n",
    "stock.mean()"
   ]
  },
  {
   "cell_type": "markdown",
   "id": "c421b197",
   "metadata": {},
   "source": [
    "#### Passing objects into built in functions\n",
    "- use Pokemon and Stock series to demonstrate functions."
   ]
  },
  {
   "cell_type": "code",
   "execution_count": 58,
   "id": "bb030aa3",
   "metadata": {},
   "outputs": [
    {
     "data": {
      "text/plain": [
       "3012"
      ]
     },
     "execution_count": 58,
     "metadata": {},
     "output_type": "execute_result"
    }
   ],
   "source": [
    "# get the number of rows from pokemon and stock\n",
    "len(p)\n",
    "len(stock)"
   ]
  },
  {
   "cell_type": "code",
   "execution_count": 59,
   "id": "940bb882",
   "metadata": {},
   "outputs": [
    {
     "data": {
      "text/plain": [
       "pandas.core.series.Series"
      ]
     },
     "execution_count": 59,
     "metadata": {},
     "output_type": "execute_result"
    }
   ],
   "source": [
    "# get the type\n",
    "type(stock)"
   ]
  },
  {
   "cell_type": "code",
   "execution_count": 114,
   "id": "fa69b321",
   "metadata": {},
   "outputs": [],
   "source": [
    "# retrun a sorted list - works the saem for numeric, in ascending order\n",
    "sortp = sorted(p)\n",
    "\n",
    "# sortp"
   ]
  },
  {
   "cell_type": "code",
   "execution_count": 70,
   "id": "7926a0ea",
   "metadata": {},
   "outputs": [
    {
     "data": {
      "text/plain": [
       "['Abomasnow', 'Abra', 'Absol', 'Accelgor', 'Aegislash']"
      ]
     },
     "execution_count": 70,
     "metadata": {},
     "output_type": "execute_result"
    }
   ],
   "source": [
    "# turns series into a list -showing fiorst 5 by using index slice\n",
    "list(sortp)[0:5]"
   ]
  },
  {
   "cell_type": "code",
   "execution_count": 115,
   "id": "4b1eb96a",
   "metadata": {},
   "outputs": [],
   "source": [
    "# use the dict function to turn google stock into a dict, index are keys\n",
    "s = dict(stock)\n",
    "\n",
    "# s"
   ]
  },
  {
   "cell_type": "code",
   "execution_count": 76,
   "id": "514fb114",
   "metadata": {},
   "outputs": [
    {
     "data": {
      "text/plain": [
       "782.22"
      ]
     },
     "execution_count": 76,
     "metadata": {},
     "output_type": "execute_result"
    }
   ],
   "source": [
    "# get the min/max from google - max retruns largest value, min retruns smallest value\n",
    "min(stock)\n",
    "\n",
    "max(stock)"
   ]
  },
  {
   "cell_type": "markdown",
   "id": "0c93e813",
   "metadata": {},
   "source": [
    "#### Sort_values( )\n",
    "- Default is ascending order\n",
    "- To change default, use ascending = False\n",
    "- A series or DF isnt modifed permanently unless you reassign or use the parameter inplace=True."
   ]
  },
  {
   "cell_type": "code",
   "execution_count": 77,
   "id": "f6f869e2",
   "metadata": {},
   "outputs": [],
   "source": [
    "# re import series \n",
    "stock = pd.read_csv('../datasets/google_stock_price.csv',usecols=['Stock Price'], squeeze=True)\n",
    "p = pd.read_csv('../datasets/pokemon.csv', usecols=['Pokemon'], squeeze=True)"
   ]
  },
  {
   "cell_type": "code",
   "execution_count": 84,
   "id": "9dc39d93",
   "metadata": {},
   "outputs": [
    {
     "data": {
      "text/plain": [
       "717     Zygarde\n",
       "633    Zweilous\n",
       "40        Zubat\n",
       "569       Zorua\n",
       "570     Zoroark\n",
       "Name: Pokemon, dtype: object"
      ]
     },
     "execution_count": 84,
     "metadata": {},
     "output_type": "execute_result"
    }
   ],
   "source": [
    "# sort the values in scending order- strings will be alphabetical\n",
    "# we can method chain here \n",
    "p.sort_values().head()\n",
    "\n",
    "# make descending order\n",
    "p.sort_values(ascending=False).head()"
   ]
  },
  {
   "cell_type": "code",
   "execution_count": 87,
   "id": "df2f7c9d",
   "metadata": {},
   "outputs": [
    {
     "data": {
      "text/plain": [
       "3011    782.22\n",
       "2859    776.60\n",
       "3009    773.18\n",
       "Name: Stock Price, dtype: float64"
      ]
     },
     "execution_count": 87,
     "metadata": {},
     "output_type": "execute_result"
    }
   ],
   "source": [
    "# sort on a numeric series and get the top 3\n",
    "stock.sort_values(ascending=False).head(3)"
   ]
  },
  {
   "cell_type": "code",
   "execution_count": 88,
   "id": "0ec58969",
   "metadata": {},
   "outputs": [
    {
     "data": {
      "text/plain": [
       "0        50.12\n",
       "1        54.10\n",
       "2        54.65\n",
       "3        52.38\n",
       "4        52.95\n",
       "         ...  \n",
       "3007    772.88\n",
       "3008    771.07\n",
       "3009    773.18\n",
       "3010    771.61\n",
       "3011    782.22\n",
       "Name: Stock Price, Length: 3012, dtype: float64"
      ]
     },
     "execution_count": 88,
     "metadata": {},
     "output_type": "execute_result"
    }
   ],
   "source": [
    "# using the inplace paremeter to overwrite the original object\n",
    "# running stock again will not be sorted as it is above becseu it wasnt saved or reassigned\n",
    "stock"
   ]
  },
  {
   "cell_type": "code",
   "execution_count": 89,
   "id": "51fd32a0",
   "metadata": {},
   "outputs": [],
   "source": [
    "# modify to be in descending order permanently\n",
    "stock.sort_values(ascending=False, inplace=True)"
   ]
  },
  {
   "cell_type": "code",
   "execution_count": 90,
   "id": "6a526603",
   "metadata": {},
   "outputs": [
    {
     "data": {
      "text/plain": [
       "3011    782.22\n",
       "2859    776.60\n",
       "3009    773.18\n",
       "3007    772.88\n",
       "3010    771.61\n",
       "         ...  \n",
       "12       50.74\n",
       "10       50.70\n",
       "0        50.12\n",
       "9        50.07\n",
       "11       49.95\n",
       "Name: Stock Price, Length: 3012, dtype: float64"
      ]
     },
     "execution_count": 90,
     "metadata": {},
     "output_type": "execute_result"
    }
   ],
   "source": [
    "# now test it, it in descending order now.\n",
    "stock"
   ]
  },
  {
   "cell_type": "markdown",
   "id": "01ee5479",
   "metadata": {},
   "source": [
    "#### Sort_index"
   ]
  },
  {
   "cell_type": "code",
   "execution_count": null,
   "id": "350c0f11",
   "metadata": {},
   "outputs": [],
   "source": [
    "p = pd.read_csv('../datasets/pokemon.csv', usecols=['Pokemon'], squeeze=True)"
   ]
  },
  {
   "cell_type": "code",
   "execution_count": 91,
   "id": "5a59eff4",
   "metadata": {},
   "outputs": [
    {
     "data": {
      "text/plain": [
       "717     Zygarde\n",
       "633    Zweilous\n",
       "40        Zubat\n",
       "569       Zorua\n",
       "570     Zoroark\n",
       "Name: Pokemon, dtype: object"
      ]
     },
     "execution_count": 91,
     "metadata": {},
     "output_type": "execute_result"
    }
   ],
   "source": [
    "# sorting in place will shuffle the index out of order - look at the 1st position, its 717!\n",
    "p.sort_values(ascending=False, inplace=True)\n",
    "\n",
    "p.head()"
   ]
  },
  {
   "cell_type": "code",
   "execution_count": 92,
   "id": "4ce4b1ac",
   "metadata": {},
   "outputs": [
    {
     "data": {
      "text/plain": [
       "0     Bulbasaur\n",
       "1       Ivysaur\n",
       "2      Venusaur\n",
       "3    Charmander\n",
       "4    Charmeleon\n",
       "Name: Pokemon, dtype: object"
      ]
     },
     "execution_count": 92,
     "metadata": {},
     "output_type": "execute_result"
    }
   ],
   "source": [
    "# reset the index\n",
    "p.sort_index(inplace=True)\n",
    "p.head()"
   ]
  },
  {
   "cell_type": "markdown",
   "id": "854fdf59",
   "metadata": {},
   "source": [
    "#### The \"in\" keyword\n",
    "- used to check if a value is in a series or index"
   ]
  },
  {
   "cell_type": "code",
   "execution_count": 93,
   "id": "b7b58fd5",
   "metadata": {},
   "outputs": [],
   "source": [
    "# re import series \n",
    "stock = pd.read_csv('../datasets/google_stock_price.csv',usecols=['Stock Price'], squeeze=True)\n",
    "p = pd.read_csv('../datasets/pokemon.csv', usecols=['Pokemon'], squeeze=True)"
   ]
  },
  {
   "cell_type": "code",
   "execution_count": 98,
   "id": "190fcf87",
   "metadata": {},
   "outputs": [
    {
     "data": {
      "text/plain": [
       "True"
      ]
     },
     "execution_count": 98,
     "metadata": {},
     "output_type": "execute_result"
    }
   ],
   "source": [
    "# the in keywrod returns true or false depending on the existence of the value within a list \n",
    "# Example\n",
    "nums = [1,2,3,4,5,6]\n",
    "\n",
    "2 in nums"
   ]
  },
  {
   "cell_type": "code",
   "execution_count": 99,
   "id": "1a053b1c",
   "metadata": {},
   "outputs": [
    {
     "data": {
      "text/plain": [
       "True"
      ]
     },
     "execution_count": 99,
     "metadata": {},
     "output_type": "execute_result"
    }
   ],
   "source": [
    "# you can search by using values as well\n",
    "'Charmander' in p.values"
   ]
  },
  {
   "cell_type": "markdown",
   "id": "cdea8138",
   "metadata": {},
   "source": [
    "#### Extract by index position or label"
   ]
  },
  {
   "cell_type": "code",
   "execution_count": null,
   "id": "d5c8b8e3",
   "metadata": {},
   "outputs": [],
   "source": []
  },
  {
   "cell_type": "code",
   "execution_count": null,
   "id": "14be6e39",
   "metadata": {},
   "outputs": [],
   "source": []
  },
  {
   "cell_type": "markdown",
   "id": "b77a2536",
   "metadata": {},
   "source": [
    "#### Math methods"
   ]
  },
  {
   "cell_type": "code",
   "execution_count": 104,
   "id": "8d55d7ef",
   "metadata": {},
   "outputs": [
    {
     "data": {
      "text/plain": [
       "0    50.12\n",
       "1    54.10\n",
       "2    54.65\n",
       "Name: Stock Price, dtype: float64"
      ]
     },
     "execution_count": 104,
     "metadata": {},
     "output_type": "execute_result"
    }
   ],
   "source": [
    "# reimport data set\n",
    "stock = pd.read_csv('../datasets/google_stock_price.csv',usecols=['Stock Price'], squeeze=True)\n",
    "stock.head(3)"
   ]
  },
  {
   "cell_type": "code",
   "execution_count": 105,
   "id": "9afbf1bc",
   "metadata": {},
   "outputs": [
    {
     "data": {
      "text/plain": [
       "3012"
      ]
     },
     "execution_count": 105,
     "metadata": {},
     "output_type": "execute_result"
    }
   ],
   "source": [
    "# lest count the valid values in the series - count excludes null values where len does not\n",
    "stock.count()"
   ]
  },
  {
   "cell_type": "code",
   "execution_count": 106,
   "id": "23979492",
   "metadata": {},
   "outputs": [
    {
     "data": {
      "text/plain": [
       "1006942.0"
      ]
     },
     "execution_count": 106,
     "metadata": {},
     "output_type": "execute_result"
    }
   ],
   "source": [
    "# sum the values - this is all the prices over the years summed up\n",
    "stock.sum()"
   ]
  },
  {
   "cell_type": "code",
   "execution_count": 107,
   "id": "e4afa00c",
   "metadata": {},
   "outputs": [
    {
     "data": {
      "text/plain": [
       "334.31009296148744"
      ]
     },
     "execution_count": 107,
     "metadata": {},
     "output_type": "execute_result"
    }
   ],
   "source": [
    "# the average- this is the saem as taking stock.sum()/stock.count()\n",
    "stock.mean()"
   ]
  },
  {
   "cell_type": "code",
   "execution_count": 108,
   "id": "f71cf712",
   "metadata": {},
   "outputs": [
    {
     "data": {
      "text/plain": [
       "173.18720477113106"
      ]
     },
     "execution_count": 108,
     "metadata": {},
     "output_type": "execute_result"
    }
   ],
   "source": [
    "# standard deviation - distance from the mean\n",
    "stock.std()"
   ]
  },
  {
   "cell_type": "code",
   "execution_count": 110,
   "id": "670480af",
   "metadata": {},
   "outputs": [
    {
     "data": {
      "text/plain": [
       "49.95"
      ]
     },
     "execution_count": 110,
     "metadata": {},
     "output_type": "execute_result"
    }
   ],
   "source": [
    "# largest close value, smallest close value\n",
    "stock.max()\n",
    "stock.min()"
   ]
  },
  {
   "cell_type": "code",
   "execution_count": 111,
   "id": "98b872cb",
   "metadata": {},
   "outputs": [
    {
     "data": {
      "text/plain": [
       "0    291.21\n",
       "dtype: float64"
      ]
     },
     "execution_count": 111,
     "metadata": {},
     "output_type": "execute_result"
    }
   ],
   "source": [
    "# mode - value that occurs most frequently\n",
    "stock.mode()"
   ]
  },
  {
   "cell_type": "code",
   "execution_count": 112,
   "id": "47fbf4bc",
   "metadata": {},
   "outputs": [
    {
     "data": {
      "text/plain": [
       "count    3012.000000\n",
       "mean      334.310093\n",
       "std       173.187205\n",
       "min        49.950000\n",
       "25%       218.045000\n",
       "50%       283.315000\n",
       "75%       443.000000\n",
       "max       782.220000\n",
       "Name: Stock Price, dtype: float64"
      ]
     },
     "execution_count": 112,
     "metadata": {},
     "output_type": "execute_result"
    }
   ],
   "source": [
    "# summary stats - gives all of the above in one command + percentiles\n",
    "stock.describe()"
   ]
  },
  {
   "cell_type": "markdown",
   "id": "b51b0f28",
   "metadata": {},
   "source": [
    "#### Value_counts method"
   ]
  },
  {
   "cell_type": "code",
   "execution_count": null,
   "id": "4f4621fb",
   "metadata": {},
   "outputs": [],
   "source": []
  },
  {
   "cell_type": "code",
   "execution_count": null,
   "id": "80608a2c",
   "metadata": {},
   "outputs": [],
   "source": []
  },
  {
   "cell_type": "markdown",
   "id": "96d913b2",
   "metadata": {},
   "source": [
    "#### Map method"
   ]
  },
  {
   "cell_type": "code",
   "execution_count": null,
   "id": "ed1d2091",
   "metadata": {},
   "outputs": [],
   "source": []
  },
  {
   "cell_type": "code",
   "execution_count": null,
   "id": "e2c5fb73",
   "metadata": {},
   "outputs": [],
   "source": []
  },
  {
   "cell_type": "code",
   "execution_count": null,
   "id": "8c017517",
   "metadata": {},
   "outputs": [],
   "source": []
  },
  {
   "cell_type": "code",
   "execution_count": null,
   "id": "87c33179",
   "metadata": {},
   "outputs": [],
   "source": []
  },
  {
   "cell_type": "code",
   "execution_count": null,
   "id": "3cb1d96a",
   "metadata": {},
   "outputs": [],
   "source": []
  }
 ],
 "metadata": {
  "kernelspec": {
   "display_name": "Python 3",
   "language": "python",
   "name": "python3"
  },
  "language_info": {
   "codemirror_mode": {
    "name": "ipython",
    "version": 3
   },
   "file_extension": ".py",
   "mimetype": "text/x-python",
   "name": "python",
   "nbconvert_exporter": "python",
   "pygments_lexer": "ipython3",
   "version": "3.8.8"
  }
 },
 "nbformat": 4,
 "nbformat_minor": 5
}
